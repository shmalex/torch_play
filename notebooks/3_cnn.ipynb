{
 "cells": [
  {
   "cell_type": "code",
   "execution_count": 1,
   "metadata": {
    "ExecuteTime": {
     "end_time": "2021-05-07T03:13:25.013326Z",
     "start_time": "2021-05-07T03:13:24.545408Z"
    }
   },
   "outputs": [],
   "source": [
    "import torch\n",
    "import torch.nn as nn"
   ]
  },
  {
   "cell_type": "markdown",
   "metadata": {},
   "source": [
    "Stride: This is the number of pixels that we shift both horizontally and\n",
    "vertically before applying convolution networks using a filter on the next patch\n",
    "of the image."
   ]
  },
  {
   "cell_type": "markdown",
   "metadata": {},
   "source": [
    "Padding: This is the strategy that we apply to the edges of an image while we\n",
    "convolve, depending on whether we want to keep the dimensions of the tensors\n",
    "the same after convolution or only apply convolution where the filter fits\n",
    "properly with the input image. If we want to keep the dimensions the same, then\n",
    "we need to zero pad the edge so that the original dimensions match with the\n",
    "output after convolution. This is called same padding. But if we don't want to\n",
    "preserve the original dimensions, then the places where the filter doesn't fit\n",
    "completely are truncated, which is called valid padding."
   ]
  },
  {
   "cell_type": "code",
   "execution_count": 2,
   "metadata": {
    "ExecuteTime": {
     "end_time": "2021-05-07T03:13:25.333800Z",
     "start_time": "2021-05-07T03:13:25.309787Z"
    }
   },
   "outputs": [
    {
     "data": {
      "text/plain": [
       "Conv2d(3, 16, kernel_size=(3, 3), stride=(1, 1))"
      ]
     },
     "execution_count": 2,
     "metadata": {},
     "output_type": "execute_result"
    }
   ],
   "source": [
    "nn.Conv2d(3, 16, 3)"
   ]
  },
  {
   "cell_type": "markdown",
   "metadata": {},
   "source": [
    "adding padding"
   ]
  },
  {
   "cell_type": "code",
   "execution_count": 3,
   "metadata": {
    "ExecuteTime": {
     "end_time": "2021-05-07T03:13:25.662003Z",
     "start_time": "2021-05-07T03:13:25.653284Z"
    }
   },
   "outputs": [
    {
     "data": {
      "text/plain": [
       "Conv2d(3, 16, kernel_size=(3, 3), stride=(1, 1), padding=(1, 1))"
      ]
     },
     "execution_count": 3,
     "metadata": {},
     "output_type": "execute_result"
    }
   ],
   "source": [
    "nn.Conv2d(3, 16, 3, padding=1)"
   ]
  },
  {
   "cell_type": "markdown",
   "metadata": {},
   "source": [
    "non square kernel"
   ]
  },
  {
   "cell_type": "code",
   "execution_count": 4,
   "metadata": {
    "ExecuteTime": {
     "end_time": "2021-05-07T03:13:25.992488Z",
     "start_time": "2021-05-07T03:13:25.984367Z"
    }
   },
   "outputs": [
    {
     "data": {
      "text/plain": [
       "Conv2d(3, 16, kernel_size=(3, 4), stride=(1, 1), padding=(1, 1))"
      ]
     },
     "execution_count": 4,
     "metadata": {},
     "output_type": "execute_result"
    }
   ],
   "source": [
    "nn.Conv2d(3, 16, (3,4), padding=1)"
   ]
  },
  {
   "cell_type": "code",
   "execution_count": 5,
   "metadata": {
    "ExecuteTime": {
     "end_time": "2021-05-07T03:13:26.145839Z",
     "start_time": "2021-05-07T03:13:26.141100Z"
    }
   },
   "outputs": [],
   "source": [
    "max_pool = nn.MaxPool2d(3, stride=1)"
   ]
  },
  {
   "cell_type": "code",
   "execution_count": 6,
   "metadata": {
    "ExecuteTime": {
     "end_time": "2021-05-07T03:13:26.324731Z",
     "start_time": "2021-05-07T03:13:26.316654Z"
    }
   },
   "outputs": [],
   "source": [
    "a = torch.FloatTensor(3,5,5).random_(0, 10)"
   ]
  },
  {
   "cell_type": "code",
   "execution_count": 7,
   "metadata": {
    "ExecuteTime": {
     "end_time": "2021-05-07T03:13:26.514832Z",
     "start_time": "2021-05-07T03:13:26.493080Z"
    }
   },
   "outputs": [
    {
     "data": {
      "text/plain": [
       "tensor([[[4., 6., 2., 7., 2.],\n",
       "         [9., 4., 1., 3., 1.],\n",
       "         [4., 1., 4., 2., 5.],\n",
       "         [4., 7., 8., 2., 5.],\n",
       "         [3., 2., 2., 4., 1.]],\n",
       "\n",
       "        [[5., 8., 6., 8., 4.],\n",
       "         [5., 7., 6., 2., 6.],\n",
       "         [7., 6., 5., 3., 4.],\n",
       "         [1., 2., 6., 6., 8.],\n",
       "         [7., 3., 5., 4., 5.]],\n",
       "\n",
       "        [[9., 4., 2., 6., 2.],\n",
       "         [5., 5., 3., 9., 3.],\n",
       "         [6., 3., 5., 5., 3.],\n",
       "         [5., 4., 2., 6., 8.],\n",
       "         [9., 9., 8., 7., 4.]]])"
      ]
     },
     "execution_count": 7,
     "metadata": {},
     "output_type": "execute_result"
    }
   ],
   "source": [
    "a"
   ]
  },
  {
   "cell_type": "code",
   "execution_count": 8,
   "metadata": {
    "ExecuteTime": {
     "end_time": "2021-05-07T03:13:27.286648Z",
     "start_time": "2021-05-07T03:13:27.269505Z"
    }
   },
   "outputs": [
    {
     "data": {
      "text/plain": [
       "tensor([[[9., 7., 7.],\n",
       "         [9., 8., 8.],\n",
       "         [8., 8., 8.]],\n",
       "\n",
       "        [[8., 8., 8.],\n",
       "         [7., 7., 8.],\n",
       "         [7., 6., 8.]],\n",
       "\n",
       "        [[9., 9., 9.],\n",
       "         [6., 9., 9.],\n",
       "         [9., 9., 8.]]])"
      ]
     },
     "execution_count": 8,
     "metadata": {},
     "output_type": "execute_result"
    }
   ],
   "source": [
    "max_pool(a)"
   ]
  },
  {
   "cell_type": "code",
   "execution_count": 9,
   "metadata": {
    "ExecuteTime": {
     "end_time": "2021-05-07T03:13:27.841921Z",
     "start_time": "2021-05-07T03:13:27.837140Z"
    }
   },
   "outputs": [],
   "source": [
    "avg_pool = nn.AvgPool2d(3, stride=1)"
   ]
  },
  {
   "cell_type": "code",
   "execution_count": 10,
   "metadata": {
    "ExecuteTime": {
     "end_time": "2021-05-07T03:13:28.026714Z",
     "start_time": "2021-05-07T03:13:28.014766Z"
    }
   },
   "outputs": [
    {
     "data": {
      "text/plain": [
       "tensor([[[3.8889, 3.3333, 3.0000],\n",
       "         [4.6667, 3.5556, 3.4444],\n",
       "         [3.8889, 3.5556, 3.6667]],\n",
       "\n",
       "        [[6.1111, 5.6667, 4.8889],\n",
       "         [5.0000, 4.7778, 5.1111],\n",
       "         [4.6667, 4.4444, 5.1111]],\n",
       "\n",
       "        [[4.6667, 4.6667, 4.2222],\n",
       "         [4.2222, 4.6667, 4.8889],\n",
       "         [5.6667, 5.4444, 5.3333]]])"
      ]
     },
     "execution_count": 10,
     "metadata": {},
     "output_type": "execute_result"
    }
   ],
   "source": [
    "avg_pool(a)"
   ]
  },
  {
   "cell_type": "code",
   "execution_count": 11,
   "metadata": {
    "ExecuteTime": {
     "end_time": "2021-05-07T03:13:28.521697Z",
     "start_time": "2021-05-07T03:13:28.199778Z"
    }
   },
   "outputs": [],
   "source": [
    "from torchvision import transforms"
   ]
  },
  {
   "cell_type": "code",
   "execution_count": 12,
   "metadata": {
    "ExecuteTime": {
     "end_time": "2021-05-07T03:13:28.753586Z",
     "start_time": "2021-05-07T03:13:28.749064Z"
    }
   },
   "outputs": [],
   "source": [
    "toTensor = transforms.ToTensor()"
   ]
  },
  {
   "cell_type": "code",
   "execution_count": 13,
   "metadata": {
    "ExecuteTime": {
     "end_time": "2021-05-07T03:13:29.637587Z",
     "start_time": "2021-05-07T03:13:29.632756Z"
    }
   },
   "outputs": [],
   "source": [
    "normTrans = transforms.Normalize((0.5,),(0.5,))"
   ]
  },
  {
   "cell_type": "code",
   "execution_count": 14,
   "metadata": {
    "ExecuteTime": {
     "end_time": "2021-05-07T03:13:29.865468Z",
     "start_time": "2021-05-07T03:13:29.861188Z"
    }
   },
   "outputs": [],
   "source": [
    "from torchvision import datasets"
   ]
  },
  {
   "cell_type": "code",
   "execution_count": 15,
   "metadata": {
    "ExecuteTime": {
     "end_time": "2021-05-07T03:13:30.123045Z",
     "start_time": "2021-05-07T03:13:30.118523Z"
    }
   },
   "outputs": [],
   "source": [
    "from torchvision import transforms"
   ]
  },
  {
   "cell_type": "code",
   "execution_count": 16,
   "metadata": {
    "ExecuteTime": {
     "end_time": "2021-05-07T03:13:30.379035Z",
     "start_time": "2021-05-07T03:13:30.372487Z"
    }
   },
   "outputs": [],
   "source": [
    "transformations = transforms.Compose([\n",
    "    transforms.RandomHorizontalFlip(),\n",
    "    transforms.RandomRotation(20),\n",
    "    transforms.ToTensor(),\n",
    "    transforms.Normalize((0.5, 0.5, 0.5),(0.5, 0.5, 0.5))\n",
    "])"
   ]
  },
  {
   "cell_type": "code",
   "execution_count": 17,
   "metadata": {
    "ExecuteTime": {
     "end_time": "2021-05-07T03:13:31.746617Z",
     "start_time": "2021-05-07T03:13:30.716636Z"
    }
   },
   "outputs": [
    {
     "name": "stdout",
     "output_type": "stream",
     "text": [
      "Files already downloaded and verified\n"
     ]
    }
   ],
   "source": [
    "train_data = datasets.CIFAR10('~/.pytorch/CIFAR10', train=True, download=True, transform=transformations)"
   ]
  },
  {
   "cell_type": "code",
   "execution_count": 18,
   "metadata": {
    "ExecuteTime": {
     "end_time": "2021-05-07T03:13:32.424384Z",
     "start_time": "2021-05-07T03:13:31.748502Z"
    }
   },
   "outputs": [
    {
     "name": "stdout",
     "output_type": "stream",
     "text": [
      "Files already downloaded and verified\n"
     ]
    }
   ],
   "source": [
    "test_data = datasets.CIFAR10('~/.pytorch/CIFAR10', train=False, download=True, transform=transformations)"
   ]
  },
  {
   "cell_type": "code",
   "execution_count": 19,
   "metadata": {
    "ExecuteTime": {
     "end_time": "2021-05-07T03:13:32.430309Z",
     "start_time": "2021-05-07T03:13:32.426498Z"
    }
   },
   "outputs": [
    {
     "data": {
      "text/plain": [
       "(50000, 10000)"
      ]
     },
     "execution_count": 19,
     "metadata": {},
     "output_type": "execute_result"
    }
   ],
   "source": [
    "len(train_data), len(test_data)"
   ]
  },
  {
   "cell_type": "code",
   "execution_count": 20,
   "metadata": {
    "ExecuteTime": {
     "end_time": "2021-05-07T03:13:32.438353Z",
     "start_time": "2021-05-07T03:13:32.431723Z"
    }
   },
   "outputs": [],
   "source": [
    "from torch.utils.data.sampler import SubsetRandomSampler"
   ]
  },
  {
   "cell_type": "code",
   "execution_count": 21,
   "metadata": {
    "ExecuteTime": {
     "end_time": "2021-05-07T03:13:32.492472Z",
     "start_time": "2021-05-07T03:13:32.489033Z"
    }
   },
   "outputs": [],
   "source": [
    "validation_size = 0.2"
   ]
  },
  {
   "cell_type": "code",
   "execution_count": 22,
   "metadata": {
    "ExecuteTime": {
     "end_time": "2021-05-07T03:13:33.073527Z",
     "start_time": "2021-05-07T03:13:33.069219Z"
    }
   },
   "outputs": [],
   "source": [
    "import numpy as np"
   ]
  },
  {
   "cell_type": "code",
   "execution_count": 23,
   "metadata": {
    "ExecuteTime": {
     "end_time": "2021-05-07T03:13:33.567916Z",
     "start_time": "2021-05-07T03:13:33.563638Z"
    }
   },
   "outputs": [],
   "source": [
    "training_size = len(train_data)"
   ]
  },
  {
   "cell_type": "code",
   "execution_count": 24,
   "metadata": {
    "ExecuteTime": {
     "end_time": "2021-05-07T03:13:33.731235Z",
     "start_time": "2021-05-07T03:13:33.723637Z"
    }
   },
   "outputs": [],
   "source": [
    "indices = list(range(training_size))"
   ]
  },
  {
   "cell_type": "code",
   "execution_count": 25,
   "metadata": {
    "ExecuteTime": {
     "end_time": "2021-05-07T03:13:33.886291Z",
     "start_time": "2021-05-07T03:13:33.876080Z"
    }
   },
   "outputs": [],
   "source": [
    "np.random.shuffle(indices)"
   ]
  },
  {
   "cell_type": "code",
   "execution_count": 26,
   "metadata": {
    "ExecuteTime": {
     "end_time": "2021-05-07T03:13:34.035770Z",
     "start_time": "2021-05-07T03:13:34.031008Z"
    }
   },
   "outputs": [],
   "source": [
    "index_split = int(np.floor(training_size * validation_size))"
   ]
  },
  {
   "cell_type": "code",
   "execution_count": 27,
   "metadata": {
    "ExecuteTime": {
     "end_time": "2021-05-07T03:13:34.176635Z",
     "start_time": "2021-05-07T03:13:34.170680Z"
    }
   },
   "outputs": [],
   "source": [
    "validation_indices, training_indices = indices[:index_split], indices[index_split:]"
   ]
  },
  {
   "cell_type": "code",
   "execution_count": 28,
   "metadata": {
    "ExecuteTime": {
     "end_time": "2021-05-07T03:13:34.320302Z",
     "start_time": "2021-05-07T03:13:34.315792Z"
    }
   },
   "outputs": [],
   "source": [
    "training_sample = SubsetRandomSampler(training_indices)\n",
    "validation_sample = SubsetRandomSampler(validation_indices)"
   ]
  },
  {
   "cell_type": "code",
   "execution_count": 29,
   "metadata": {
    "ExecuteTime": {
     "end_time": "2021-05-07T03:13:34.469604Z",
     "start_time": "2021-05-07T03:13:34.465200Z"
    }
   },
   "outputs": [],
   "source": [
    "batch_size = 64"
   ]
  },
  {
   "cell_type": "code",
   "execution_count": 30,
   "metadata": {
    "ExecuteTime": {
     "end_time": "2021-05-07T03:13:34.602043Z",
     "start_time": "2021-05-07T03:13:34.597879Z"
    }
   },
   "outputs": [],
   "source": [
    "from torch.utils.data.dataloader import DataLoader"
   ]
  },
  {
   "cell_type": "code",
   "execution_count": 31,
   "metadata": {
    "ExecuteTime": {
     "end_time": "2021-05-07T03:13:35.337807Z",
     "start_time": "2021-05-07T03:13:35.332900Z"
    }
   },
   "outputs": [],
   "source": [
    "train_loader = DataLoader(train_data, batch_size=batch_size, sampler=training_sample)"
   ]
  },
  {
   "cell_type": "code",
   "execution_count": 32,
   "metadata": {
    "ExecuteTime": {
     "end_time": "2021-05-07T03:13:36.169340Z",
     "start_time": "2021-05-07T03:13:36.164455Z"
    }
   },
   "outputs": [],
   "source": [
    "valid_loader = DataLoader(train_data, batch_size=batch_size, sampler=validation_sample)"
   ]
  },
  {
   "cell_type": "code",
   "execution_count": 33,
   "metadata": {
    "ExecuteTime": {
     "end_time": "2021-05-07T03:13:36.496691Z",
     "start_time": "2021-05-07T03:13:36.491964Z"
    }
   },
   "outputs": [],
   "source": [
    "test_loader = DataLoader(test_data, batch_size=batch_size)"
   ]
  },
  {
   "cell_type": "markdown",
   "metadata": {},
   "source": [
    "defining the CNN architecture"
   ]
  },
  {
   "cell_type": "code",
   "execution_count": 34,
   "metadata": {
    "ExecuteTime": {
     "end_time": "2021-05-07T03:13:36.849863Z",
     "start_time": "2021-05-07T03:13:36.845321Z"
    }
   },
   "outputs": [],
   "source": [
    "import torch.nn.functional as F"
   ]
  },
  {
   "cell_type": "code",
   "execution_count": 35,
   "metadata": {
    "ExecuteTime": {
     "end_time": "2021-05-07T03:13:37.323305Z",
     "start_time": "2021-05-07T03:13:37.306653Z"
    }
   },
   "outputs": [],
   "source": [
    "class CNN(nn.Module):\n",
    "    def __init__(self):\n",
    "        super().__init__()\n",
    "        self.conv1 = nn.Conv2d(3, 16, 3, padding=1)\n",
    "        self.conv2 = nn.Conv2d(16, 32, 3, padding=1)\n",
    "        self.conv3 = nn.Conv2d(32, 64, 3, padding=1)\n",
    "        self.pool = nn.MaxPool2d(2, 2)\n",
    "        self.linear1 = nn.Linear(64 * 4 * 4, 512)\n",
    "        self.linear2 = nn.Linear(512, 10)\n",
    "        self.dropout = nn.Dropout(p=0.3)\n",
    "    def forward(self, x):\n",
    "        x = self.pool(F.relu(self.conv1(x)))\n",
    "        x = self.pool(F.relu(self.conv2(x)))\n",
    "        x = self.pool(F.relu(self.conv3(x)))\n",
    "        x = x.view(-1, 64 * 4 * 4)\n",
    "        x = self.dropout(x)\n",
    "        x = F.relu(self.linear1(x))\n",
    "        x = self.dropout(x)\n",
    "        x = self.linear2(x)\n",
    "        return x"
   ]
  },
  {
   "cell_type": "code",
   "execution_count": 36,
   "metadata": {
    "ExecuteTime": {
     "end_time": "2021-05-07T03:13:38.829599Z",
     "start_time": "2021-05-07T03:13:38.814365Z"
    }
   },
   "outputs": [
    {
     "data": {
      "text/plain": [
       "CNN(\n",
       "  (conv1): Conv2d(3, 16, kernel_size=(3, 3), stride=(1, 1), padding=(1, 1))\n",
       "  (conv2): Conv2d(16, 32, kernel_size=(3, 3), stride=(1, 1), padding=(1, 1))\n",
       "  (conv3): Conv2d(32, 64, kernel_size=(3, 3), stride=(1, 1), padding=(1, 1))\n",
       "  (pool): MaxPool2d(kernel_size=2, stride=2, padding=0, dilation=1, ceil_mode=False)\n",
       "  (linear1): Linear(in_features=1024, out_features=512, bias=True)\n",
       "  (linear2): Linear(in_features=512, out_features=10, bias=True)\n",
       "  (dropout): Dropout(p=0.3, inplace=False)\n",
       ")"
      ]
     },
     "execution_count": 36,
     "metadata": {},
     "output_type": "execute_result"
    }
   ],
   "source": [
    "model = CNN()\n",
    "model"
   ]
  },
  {
   "cell_type": "code",
   "execution_count": 38,
   "metadata": {
    "ExecuteTime": {
     "end_time": "2021-05-05T16:58:45.122317Z",
     "start_time": "2021-05-05T16:58:45.061515Z"
    }
   },
   "outputs": [
    {
     "data": {
      "text/plain": [
       "'cuda'"
      ]
     },
     "execution_count": 38,
     "metadata": {},
     "output_type": "execute_result"
    }
   ],
   "source": [
    "device = torch.device('cuda' if torch.cuda.is_available() else 'cpu')\n",
    "device.type"
   ]
  },
  {
   "cell_type": "code",
   "execution_count": 37,
   "metadata": {
    "ExecuteTime": {
     "end_time": "2021-05-07T03:13:47.189105Z",
     "start_time": "2021-05-07T03:13:47.080114Z"
    }
   },
   "outputs": [
    {
     "ename": "NameError",
     "evalue": "name 'device' is not defined",
     "output_type": "error",
     "traceback": [
      "\u001b[0;31m---------------------------------------------------------------------------\u001b[0m",
      "\u001b[0;31mNameError\u001b[0m                                 Traceback (most recent call last)",
      "\u001b[0;32m<ipython-input-37-281bb118eecb>\u001b[0m in \u001b[0;36m<module>\u001b[0;34m\u001b[0m\n\u001b[0;32m----> 1\u001b[0;31m \u001b[0mmodel\u001b[0m \u001b[0;34m=\u001b[0m \u001b[0mmodel\u001b[0m\u001b[0;34m.\u001b[0m\u001b[0mto\u001b[0m\u001b[0;34m(\u001b[0m\u001b[0mdevice\u001b[0m\u001b[0;34m)\u001b[0m\u001b[0;34m\u001b[0m\u001b[0;34m\u001b[0m\u001b[0m\n\u001b[0m",
      "\u001b[0;31mNameError\u001b[0m: name 'device' is not defined"
     ]
    }
   ],
   "source": [
    "model = model.to(device)"
   ]
  },
  {
   "cell_type": "code",
   "execution_count": 40,
   "metadata": {
    "ExecuteTime": {
     "end_time": "2021-05-05T16:58:48.532492Z",
     "start_time": "2021-05-05T16:58:48.530215Z"
    }
   },
   "outputs": [],
   "source": [
    "criterion = nn.CrossEntropyLoss()"
   ]
  },
  {
   "cell_type": "code",
   "execution_count": 41,
   "metadata": {
    "ExecuteTime": {
     "end_time": "2021-05-05T16:58:49.266686Z",
     "start_time": "2021-05-05T16:58:49.262263Z"
    }
   },
   "outputs": [],
   "source": [
    "import torch.optim as optim"
   ]
  },
  {
   "cell_type": "code",
   "execution_count": 42,
   "metadata": {
    "ExecuteTime": {
     "end_time": "2021-05-05T16:58:49.531937Z",
     "start_time": "2021-05-05T16:58:49.526710Z"
    }
   },
   "outputs": [],
   "source": [
    "optimizer = optim.SGD(model.parameters(), lr=0.01)"
   ]
  },
  {
   "cell_type": "code",
   "execution_count": 43,
   "metadata": {
    "ExecuteTime": {
     "end_time": "2021-05-05T16:58:49.732752Z",
     "start_time": "2021-05-05T16:58:49.728120Z"
    }
   },
   "outputs": [],
   "source": [
    "import tqdm"
   ]
  },
  {
   "cell_type": "code",
   "execution_count": 44,
   "metadata": {
    "ExecuteTime": {
     "end_time": "2021-05-05T17:07:16.236382Z",
     "start_time": "2021-05-05T16:58:50.397949Z"
    }
   },
   "outputs": [
    {
     "data": {
      "application/vnd.jupyter.widget-view+json": {
       "model_id": "9495c112056549caa427da2ddefb5530",
       "version_major": 2,
       "version_minor": 0
      },
      "text/plain": [
       "HBox(children=(HTML(value=''), FloatProgress(value=0.0, max=30.0), HTML(value='')))"
      ]
     },
     "metadata": {},
     "output_type": "display_data"
    },
    {
     "name": "stdout",
     "output_type": "stream",
     "text": [
      "| Epoch: 01 | Train Loss: 2.297 | Val. Loss: 2.281\n",
      "| Epoch: 02 | Train Loss: 2.180 | Val. Loss: 2.030\n",
      "| Epoch: 03 | Train Loss: 1.963 | Val. Loss: 1.845\n",
      "| Epoch: 04 | Train Loss: 1.822 | Val. Loss: 1.717\n",
      "| Epoch: 05 | Train Loss: 1.714 | Val. Loss: 1.616\n",
      "| Epoch: 06 | Train Loss: 1.633 | Val. Loss: 1.552\n",
      "| Epoch: 07 | Train Loss: 1.580 | Val. Loss: 1.509\n",
      "| Epoch: 08 | Train Loss: 1.544 | Val. Loss: 1.473\n",
      "| Epoch: 09 | Train Loss: 1.504 | Val. Loss: 1.445\n",
      "| Epoch: 10 | Train Loss: 1.468 | Val. Loss: 1.421\n",
      "| Epoch: 11 | Train Loss: 1.441 | Val. Loss: 1.393\n",
      "| Epoch: 12 | Train Loss: 1.415 | Val. Loss: 1.351\n",
      "| Epoch: 13 | Train Loss: 1.389 | Val. Loss: 1.352\n",
      "| Epoch: 14 | Train Loss: 1.369 | Val. Loss: 1.297\n",
      "| Epoch: 15 | Train Loss: 1.344 | Val. Loss: 1.294\n",
      "| Epoch: 16 | Train Loss: 1.325 | Val. Loss: 1.254\n",
      "| Epoch: 17 | Train Loss: 1.300 | Val. Loss: 1.231\n",
      "| Epoch: 18 | Train Loss: 1.281 | Val. Loss: 1.265\n",
      "| Epoch: 19 | Train Loss: 1.263 | Val. Loss: 1.197\n",
      "| Epoch: 20 | Train Loss: 1.246 | Val. Loss: 1.173\n",
      "| Epoch: 21 | Train Loss: 1.230 | Val. Loss: 1.180\n",
      "| Epoch: 22 | Train Loss: 1.211 | Val. Loss: 1.141\n",
      "| Epoch: 23 | Train Loss: 1.192 | Val. Loss: 1.134\n",
      "| Epoch: 24 | Train Loss: 1.181 | Val. Loss: 1.111\n",
      "| Epoch: 25 | Train Loss: 1.164 | Val. Loss: 1.099\n",
      "| Epoch: 26 | Train Loss: 1.152 | Val. Loss: 1.090\n",
      "| Epoch: 27 | Train Loss: 1.136 | Val. Loss: 1.070\n",
      "| Epoch: 28 | Train Loss: 1.125 | Val. Loss: 1.046\n",
      "| Epoch: 29 | Train Loss: 1.108 | Val. Loss: 1.041\n",
      "| Epoch: 30 | Train Loss: 1.098 | Val. Loss: 1.028\n",
      "\n"
     ]
    }
   ],
   "source": [
    "n_epoches = 30\n",
    "for epoch in tqdm.notebook.tqdm(range(1, n_epoches+1)):\n",
    "    train_loss = 0.0\n",
    "    valid_loss = 0.0\n",
    "    model.train()\n",
    "    for batch_idx, (data, target) in enumerate(train_loader):\n",
    "        data, target = data.to(device), target.to(device)\n",
    "        optimizer.zero_grad()\n",
    "        output = model(data)\n",
    "        loss = criterion(output, target)\n",
    "        loss.backward()\n",
    "        optimizer.step()\n",
    "        train_loss += loss.item()*data.size(0)\n",
    "    model.eval()\n",
    "    for batch_idx, (data, target) in enumerate(valid_loader):\n",
    "        data, target = data.to(device), target.to(device)\n",
    "        output = model(data)\n",
    "        loss = criterion(output, target)\n",
    "        valid_loss += loss.item()*data.size(0)\n",
    "    train_loss = train_loss/len(train_loader.sampler)\n",
    "    valid_loss = valid_loss/len(valid_loader.sampler)\n",
    "    print(f'| Epoch: {epoch:02} | Train Loss: {train_loss:.3f} | Val. Loss: {valid_loss:.3f}')"
   ]
  }
 ],
 "metadata": {
  "kernelspec": {
   "display_name": "rl",
   "language": "python",
   "name": "rl"
  },
  "language_info": {
   "codemirror_mode": {
    "name": "ipython",
    "version": 3
   },
   "file_extension": ".py",
   "mimetype": "text/x-python",
   "name": "python",
   "nbconvert_exporter": "python",
   "pygments_lexer": "ipython3",
   "version": "3.7.6"
  }
 },
 "nbformat": 4,
 "nbformat_minor": 4
}
