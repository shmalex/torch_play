{
 "cells": [
  {
   "cell_type": "markdown",
   "metadata": {
    "ExecuteTime": {
     "end_time": "2021-05-14T23:13:05.613570Z",
     "start_time": "2021-05-14T23:13:05.605728Z"
    }
   },
   "source": [
    "This JN is base on the Abhishek Thakur video\n",
    "https://www.youtube.com/watch?v=YUMLKPk77iY&list=PL98nY_tJQXZln8spB5uTZdKN08mYGkOf2&index=6"
   ]
  },
  {
   "cell_type": "code",
   "execution_count": 1,
   "metadata": {
    "ExecuteTime": {
     "end_time": "2021-05-14T23:28:35.814441Z",
     "start_time": "2021-05-14T23:28:35.094583Z"
    }
   },
   "outputs": [],
   "source": [
    "import torch\n",
    "import numpy as np"
   ]
  },
  {
   "cell_type": "markdown",
   "metadata": {},
   "source": [
    "What Data Loader do in pytorch? You have to load the data in batches, to pass it to NN to learn."
   ]
  },
  {
   "cell_type": "code",
   "execution_count": 2,
   "metadata": {
    "ExecuteTime": {
     "end_time": "2021-05-14T23:28:36.014676Z",
     "start_time": "2021-05-14T23:28:36.005670Z"
    }
   },
   "outputs": [],
   "source": [
    "class CustomDataset():\n",
    "    def __init__(self, data, targets):\n",
    "        self.data = data\n",
    "        self.targets = targets\n",
    "    def __len__(self):\n",
    "        \"\"\" return the len of dataset\"\"\"\n",
    "        return len(self.data)\n",
    "\n",
    "    def __getitem__(self, idx):\n",
    "        \"\"\"retruns dictionary of tensors of samples ans targets\"\"\"\n",
    "        current_sample = self.data[idx,:]\n",
    "        current_target = self.targets[idx]\n",
    "        # or call it \"x\" and \"y\"\n",
    "        return {\n",
    "            \"x\": torch.tensor(current_sample, dtype=torch.float),\n",
    "            \"y\": torch.tensor(current_target, dtype=torch.long)\n",
    "        }"
   ]
  },
  {
   "cell_type": "code",
   "execution_count": 3,
   "metadata": {
    "ExecuteTime": {
     "end_time": "2021-05-14T23:28:36.551895Z",
     "start_time": "2021-05-14T23:28:36.172367Z"
    }
   },
   "outputs": [
    {
     "data": {
      "text/plain": [
       "((1000, 20), (1000,), array([0, 1]))"
      ]
     },
     "execution_count": 3,
     "metadata": {},
     "output_type": "execute_result"
    }
   ],
   "source": [
    "from sklearn.datasets import make_classification\n",
    "data, targets = make_classification(n_samples=1000)\n",
    "data.shape, targets.shape, np.unique(targets)"
   ]
  },
  {
   "cell_type": "code",
   "execution_count": 4,
   "metadata": {
    "ExecuteTime": {
     "end_time": "2021-05-14T23:28:36.557585Z",
     "start_time": "2021-05-14T23:28:36.554205Z"
    }
   },
   "outputs": [],
   "source": [
    "train_dataset = CustomDataset(data, targets)"
   ]
  },
  {
   "cell_type": "code",
   "execution_count": 5,
   "metadata": {
    "ExecuteTime": {
     "end_time": "2021-05-14T23:28:36.567097Z",
     "start_time": "2021-05-14T23:28:36.560072Z"
    }
   },
   "outputs": [
    {
     "data": {
      "text/plain": [
       "1000"
      ]
     },
     "execution_count": 5,
     "metadata": {},
     "output_type": "execute_result"
    }
   ],
   "source": [
    "len(train_dataset)"
   ]
  },
  {
   "cell_type": "code",
   "execution_count": 6,
   "metadata": {
    "ExecuteTime": {
     "end_time": "2021-05-14T23:28:36.647651Z",
     "start_time": "2021-05-14T23:28:36.644249Z"
    }
   },
   "outputs": [],
   "source": [
    "#?torch.utils.data.DataLoader"
   ]
  },
  {
   "cell_type": "code",
   "execution_count": 7,
   "metadata": {
    "ExecuteTime": {
     "end_time": "2021-05-14T23:28:36.827366Z",
     "start_time": "2021-05-14T23:28:36.822681Z"
    }
   },
   "outputs": [],
   "source": [
    "# this is generator\n",
    "train_loader = torch.utils.data.DataLoader(train_dataset, batch_size=4, num_workers=2 )"
   ]
  },
  {
   "cell_type": "code",
   "execution_count": 8,
   "metadata": {
    "ExecuteTime": {
     "end_time": "2021-05-14T23:28:37.030514Z",
     "start_time": "2021-05-14T23:28:36.973721Z"
    }
   },
   "outputs": [
    {
     "name": "stdout",
     "output_type": "stream",
     "text": [
      "{'x': tensor([[ 0.4146, -0.0705, -1.7144, -0.8050, -0.8245, -1.0454,  0.7461,  0.0446,\n",
      "          0.2757,  1.2867, -1.2780, -0.3866,  0.1041, -0.8373,  0.0277, -1.1518,\n",
      "         -0.6929, -1.1840, -0.2161, -0.2674],\n",
      "        [-0.1799,  0.7099,  0.4460,  0.5064,  2.6091,  1.1762,  0.0480, -0.4865,\n",
      "          0.9433,  0.0385,  1.0539, -1.9572, -0.2310, -0.2186, -0.1329, -0.6746,\n",
      "          2.1002,  0.0340,  0.9664, -0.8943],\n",
      "        [-1.0860,  0.7500,  0.8104, -0.4836, -2.2247,  0.0296, -0.5587,  0.0388,\n",
      "          1.3319,  2.0399,  0.3184,  2.5376, -0.5412,  0.9117,  0.1352,  0.3228,\n",
      "         -1.7460,  0.7133,  1.6685,  1.3068],\n",
      "        [-0.5523,  1.1510, -0.7329,  0.7590,  0.4481, -1.2218, -0.0732,  0.8189,\n",
      "          0.5618,  1.1174,  0.0132,  1.3657,  1.0996, -0.3009, -0.0531, -1.9186,\n",
      "          0.2990, -0.7155,  0.6542,  0.8687]]), 'y': tensor([0, 1, 1, 0])}\n",
      "tensor([0, 1, 1, 0])\n",
      "torch.Size([4, 20]) torch.Size([4])\n"
     ]
    }
   ],
   "source": [
    "for d in train_loader:\n",
    "    print(d)\n",
    "    print(d['y'])\n",
    "    print(d['x'].shape, d['y'].shape)\n",
    "    break"
   ]
  },
  {
   "cell_type": "code",
   "execution_count": 9,
   "metadata": {
    "ExecuteTime": {
     "end_time": "2021-05-14T23:28:39.296528Z",
     "start_time": "2021-05-14T23:28:39.292832Z"
    }
   },
   "outputs": [],
   "source": [
    "model = lambda x,y: None"
   ]
  },
  {
   "cell_type": "code",
   "execution_count": 10,
   "metadata": {
    "ExecuteTime": {
     "end_time": "2021-05-14T23:28:40.417469Z",
     "start_time": "2021-05-14T23:28:40.413721Z"
    }
   },
   "outputs": [],
   "source": [
    "import tqdm"
   ]
  },
  {
   "cell_type": "code",
   "execution_count": 11,
   "metadata": {
    "ExecuteTime": {
     "end_time": "2021-05-14T23:28:45.082399Z",
     "start_time": "2021-05-14T23:28:41.750648Z"
    }
   },
   "outputs": [
    {
     "data": {
      "application/vnd.jupyter.widget-view+json": {
       "model_id": "54cba1151e5b41bebd829dc65362bc51",
       "version_major": 2,
       "version_minor": 0
      },
      "text/plain": [
       "  0%|          | 0/10 [00:00<?, ?it/s]"
      ]
     },
     "metadata": {},
     "output_type": "display_data"
    }
   ],
   "source": [
    "epochs = 10\n",
    "for _ in tqdm.notebook.tqdm(range(epochs)):\n",
    "    for d in train_loader:\n",
    "        x = d['x']\n",
    "        y = d['y']\n",
    "        outputs = model(x, y)\n",
    "        # loss = ...\n",
    "        # loss.backwards()\n",
    "        # ..."
   ]
  },
  {
   "cell_type": "code",
   "execution_count": null,
   "metadata": {},
   "outputs": [],
   "source": []
  },
  {
   "cell_type": "code",
   "execution_count": null,
   "metadata": {},
   "outputs": [],
   "source": []
  },
  {
   "cell_type": "code",
   "execution_count": null,
   "metadata": {},
   "outputs": [],
   "source": []
  }
 ],
 "metadata": {
  "kernelspec": {
   "display_name": "pt",
   "language": "python",
   "name": "pt"
  },
  "language_info": {
   "codemirror_mode": {
    "name": "ipython",
    "version": 3
   },
   "file_extension": ".py",
   "mimetype": "text/x-python",
   "name": "python",
   "nbconvert_exporter": "python",
   "pygments_lexer": "ipython3",
   "version": "3.7.9"
  }
 },
 "nbformat": 4,
 "nbformat_minor": 4
}
