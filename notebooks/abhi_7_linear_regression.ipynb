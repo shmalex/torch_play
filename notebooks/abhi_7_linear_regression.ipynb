{
 "cells": [
  {
   "cell_type": "markdown",
   "metadata": {
    "ExecuteTime": {
     "start_time": "2021-05-14T23:29:53.197Z"
    }
   },
   "source": [
    "This JN is base on Abhishek Thakur video\n",
    "https://www.youtube.com/watch?v=gB1KAhL6Hvw&list=PL98nY_tJQXZln8spB5uTZdKN08mYGkOf2&index=8"
   ]
  },
  {
   "cell_type": "code",
   "execution_count": 1,
   "metadata": {
    "ExecuteTime": {
     "end_time": "2021-05-16T21:56:35.023853Z",
     "start_time": "2021-05-16T21:56:33.269133Z"
    }
   },
   "outputs": [
    {
     "name": "stdout",
     "output_type": "stream",
     "text": [
      "1.8.1\n"
     ]
    }
   ],
   "source": [
    "import torch\n",
    "import tqdm\n",
    "print(torch.__version__)\n",
    "from sklearn.model_selection import train_test_split\n",
    "from sklearn.datasets import make_classification\n",
    "from sklearn import metrics"
   ]
  },
  {
   "cell_type": "code",
   "execution_count": 2,
   "metadata": {
    "ExecuteTime": {
     "end_time": "2021-05-16T21:56:35.403928Z",
     "start_time": "2021-05-16T21:56:35.395335Z"
    }
   },
   "outputs": [],
   "source": [
    "class CustomDataset:\n",
    "    def __init__(self, data, targets):\n",
    "        self.data = data\n",
    "        self.targets = targets\n",
    "    \n",
    "    def __len__(self):\n",
    "        return len(self.data)\n",
    "\n",
    "    def __getitem__(self, idx):\n",
    "        current_data = self.data[idx,:]\n",
    "        current_target = self.targets[idx]\n",
    "        return {\n",
    "            \"x\": torch.tensor(current_data, dtype=torch.float),\n",
    "            \"y\": torch.tensor(current_target, dtype=torch.float)\n",
    "        }"
   ]
  },
  {
   "cell_type": "code",
   "execution_count": 3,
   "metadata": {
    "ExecuteTime": {
     "end_time": "2021-05-16T21:56:35.795534Z",
     "start_time": "2021-05-16T21:56:35.779373Z"
    }
   },
   "outputs": [],
   "source": [
    "class_data, class_targets = make_classification(n_samples=1000)"
   ]
  },
  {
   "cell_type": "code",
   "execution_count": 4,
   "metadata": {
    "ExecuteTime": {
     "end_time": "2021-05-16T21:56:36.575241Z",
     "start_time": "2021-05-16T21:56:36.570969Z"
    }
   },
   "outputs": [],
   "source": [
    "#?train_test_split"
   ]
  },
  {
   "cell_type": "code",
   "execution_count": 5,
   "metadata": {
    "ExecuteTime": {
     "end_time": "2021-05-16T21:56:36.893685Z",
     "start_time": "2021-05-16T21:56:36.890228Z"
    }
   },
   "outputs": [],
   "source": [
    "# run experiment on what is stratificatoin"
   ]
  },
  {
   "cell_type": "code",
   "execution_count": 6,
   "metadata": {
    "ExecuteTime": {
     "end_time": "2021-05-16T21:56:37.186347Z",
     "start_time": "2021-05-16T21:56:37.177137Z"
    }
   },
   "outputs": [],
   "source": [
    "train_data, test_data, train_targets, test_targets = train_test_split(class_data, class_targets, stratify=class_targets)"
   ]
  },
  {
   "cell_type": "code",
   "execution_count": 7,
   "metadata": {
    "ExecuteTime": {
     "end_time": "2021-05-16T21:56:38.288590Z",
     "start_time": "2021-05-16T21:56:38.267262Z"
    }
   },
   "outputs": [
    {
     "data": {
      "text/plain": [
       "((750, 20), (250, 20))"
      ]
     },
     "execution_count": 7,
     "metadata": {},
     "output_type": "execute_result"
    }
   ],
   "source": [
    "train_data.shape,test_data.shape"
   ]
  },
  {
   "cell_type": "code",
   "execution_count": 8,
   "metadata": {
    "ExecuteTime": {
     "end_time": "2021-05-16T21:56:38.750709Z",
     "start_time": "2021-05-16T21:56:38.745985Z"
    }
   },
   "outputs": [],
   "source": [
    "train_dataset = CustomDataset(train_data, train_targets)\n",
    "test_dataset = CustomDataset(test_data, test_targets)"
   ]
  },
  {
   "cell_type": "code",
   "execution_count": 9,
   "metadata": {
    "ExecuteTime": {
     "end_time": "2021-05-16T21:56:39.375892Z",
     "start_time": "2021-05-16T21:56:39.370469Z"
    }
   },
   "outputs": [],
   "source": [
    "train_loader = torch.utils.data.DataLoader(train_dataset, batch_size=4)#, num_workers=2)\n",
    "test_loader = torch.utils.data.DataLoader(test_dataset, batch_size=4)#, num_workers=2)"
   ]
  },
  {
   "cell_type": "code",
   "execution_count": 10,
   "metadata": {
    "ExecuteTime": {
     "end_time": "2021-05-16T21:56:40.569651Z",
     "start_time": "2021-05-16T21:56:40.563053Z"
    }
   },
   "outputs": [
    {
     "data": {
      "text/plain": [
       "750"
      ]
     },
     "execution_count": 10,
     "metadata": {},
     "output_type": "execute_result"
    }
   ],
   "source": [
    "len(train_dataset)"
   ]
  },
  {
   "cell_type": "code",
   "execution_count": 11,
   "metadata": {
    "ExecuteTime": {
     "end_time": "2021-05-16T21:56:41.247743Z",
     "start_time": "2021-05-16T21:56:41.242796Z"
    }
   },
   "outputs": [],
   "source": [
    "model = lambda x, w, b: x @ w + b"
   ]
  },
  {
   "cell_type": "code",
   "execution_count": 12,
   "metadata": {
    "ExecuteTime": {
     "end_time": "2021-05-16T21:56:41.768996Z",
     "start_time": "2021-05-16T21:56:41.753753Z"
    }
   },
   "outputs": [],
   "source": [
    "W = torch.randn(train_data.shape[1], 1, requires_grad=True)\n",
    "b = torch.rand(1, requires_grad=True)"
   ]
  },
  {
   "cell_type": "code",
   "execution_count": 13,
   "metadata": {
    "ExecuteTime": {
     "end_time": "2021-05-16T21:56:42.494015Z",
     "start_time": "2021-05-16T21:56:42.457938Z"
    }
   },
   "outputs": [],
   "source": [
    "outputs = []\n",
    "labels = []\n",
    "with torch.no_grad():\n",
    "    for data in test_loader:\n",
    "        xtest = data['x']\n",
    "        ytest = data['y']\n",
    "        \n",
    "        output = model(xtest, W, b)\n",
    "        labels.append(ytest)\n",
    "        outputs.append(output)"
   ]
  },
  {
   "cell_type": "code",
   "execution_count": 14,
   "metadata": {
    "ExecuteTime": {
     "end_time": "2021-05-16T21:56:43.150414Z",
     "start_time": "2021-05-16T21:56:43.131236Z"
    }
   },
   "outputs": [
    {
     "data": {
      "text/plain": [
       "0.29222400000000004"
      ]
     },
     "execution_count": 14,
     "metadata": {},
     "output_type": "execute_result"
    }
   ],
   "source": [
    "metrics.roc_auc_score(torch.cat(labels).view(-1),torch.cat(outputs).view(-1))"
   ]
  },
  {
   "cell_type": "code",
   "execution_count": 15,
   "metadata": {
    "ExecuteTime": {
     "end_time": "2021-05-16T21:56:43.733796Z",
     "start_time": "2021-05-16T21:56:43.729545Z"
    }
   },
   "outputs": [],
   "source": [
    "learning_rate = 0.001\n",
    "epochs = 30"
   ]
  },
  {
   "cell_type": "code",
   "execution_count": 16,
   "metadata": {
    "ExecuteTime": {
     "end_time": "2021-05-16T21:56:47.680207Z",
     "start_time": "2021-05-16T21:56:45.250523Z"
    }
   },
   "outputs": [
    {
     "data": {
      "application/vnd.jupyter.widget-view+json": {
       "model_id": "20bc2e8fe96242c3af801c09dec79ed9",
       "version_major": 2,
       "version_minor": 0
      },
      "text/plain": [
       "  0%|          | 0/30 [00:00<?, ?it/s]"
      ]
     },
     "metadata": {},
     "output_type": "display_data"
    },
    {
     "name": "stdout",
     "output_type": "stream",
     "text": [
      "Epoch 0 loss 29.0474\n",
      "Epoch 1 loss 11.7221\n",
      "Epoch 2 loss 5.3759\n",
      "Epoch 3 loss 2.6060\n",
      "Epoch 4 loss 1.3126\n",
      "Epoch 5 loss 0.6918\n",
      "Epoch 6 loss 0.3896\n",
      "Epoch 7 loss 0.2411\n",
      "Epoch 8 loss 0.1677\n",
      "Epoch 9 loss 0.1311\n",
      "Epoch 10 loss 0.1128\n",
      "Epoch 11 loss 0.1035\n",
      "Epoch 12 loss 0.0988\n",
      "Epoch 13 loss 0.0965\n",
      "Epoch 14 loss 0.0952\n",
      "Epoch 15 loss 0.0946\n",
      "Epoch 16 loss 0.0943\n",
      "Epoch 17 loss 0.0941\n",
      "Epoch 18 loss 0.0940\n",
      "Epoch 19 loss 0.0939\n",
      "Epoch 20 loss 0.0939\n",
      "Epoch 21 loss 0.0939\n",
      "Epoch 22 loss 0.0939\n",
      "Epoch 23 loss 0.0939\n",
      "Epoch 24 loss 0.0939\n",
      "Epoch 25 loss 0.0939\n",
      "Epoch 26 loss 0.0939\n",
      "Epoch 27 loss 0.0939\n",
      "Epoch 28 loss 0.0939\n",
      "Epoch 29 loss 0.0939\n"
     ]
    }
   ],
   "source": [
    "for epoch in tqdm.notebook.tqdm(range(epochs)):\n",
    "    epoch_loss = 0\n",
    "    counter = 0\n",
    "    for data in train_loader:\n",
    "        # get data\n",
    "        xtrain = data['x']\n",
    "        ytrain = data['y']\n",
    "        \n",
    "        # print(W.grad)\n",
    "        if W.grad is not None:\n",
    "            W.grad_zero_()\n",
    "        # calculate the output\n",
    "        output = model(xtrain, W, b)\n",
    "        loss = torch.mean((ytrain.view(-1) - output.view(-1))**2)\n",
    "        epoch_loss = epoch_loss + loss.item()\n",
    "        loss.backward()\n",
    "\n",
    "        # print(W.grad.view(-1))\n",
    "        with torch.no_grad():\n",
    "            W = W - learning_rate * W.grad.data\n",
    "            b = b - learning_rate * b.grad.data\n",
    "        W.requires_grad_(True)\n",
    "        b.requires_grad_(True)\n",
    "        \n",
    "        # the gradients are reset to zero by torch\n",
    "        counter += 1\n",
    "    print(f'Epoch {epoch} loss {epoch_loss/counter:.4f}')"
   ]
  },
  {
   "cell_type": "markdown",
   "metadata": {},
   "source": [
    "Since the data is binary we can calculate the metric **AURC**"
   ]
  },
  {
   "cell_type": "code",
   "execution_count": 17,
   "metadata": {
    "ExecuteTime": {
     "end_time": "2021-05-16T21:56:50.951669Z",
     "start_time": "2021-05-16T21:56:50.930136Z"
    }
   },
   "outputs": [],
   "source": [
    "outputs = []\n",
    "labels = []\n",
    "with torch.no_grad():\n",
    "    for data in test_loader:\n",
    "        xtest = data['x']\n",
    "        ytest = data['y']\n",
    "        \n",
    "        output = model(xtest, W, b)\n",
    "        labels.append(ytest)\n",
    "        outputs.append(output)"
   ]
  },
  {
   "cell_type": "code",
   "execution_count": 18,
   "metadata": {
    "ExecuteTime": {
     "end_time": "2021-05-16T21:56:51.815736Z",
     "start_time": "2021-05-16T21:56:51.803107Z"
    }
   },
   "outputs": [
    {
     "data": {
      "text/plain": [
       "0.967296"
      ]
     },
     "execution_count": 18,
     "metadata": {},
     "output_type": "execute_result"
    }
   ],
   "source": [
    "metrics.roc_auc_score(torch.cat(labels).view(-1),torch.cat(outputs).view(-1))"
   ]
  },
  {
   "cell_type": "code",
   "execution_count": 19,
   "metadata": {
    "ExecuteTime": {
     "end_time": "2021-05-16T21:56:52.418039Z",
     "start_time": "2021-05-16T21:56:52.410306Z"
    }
   },
   "outputs": [],
   "source": [
    "class LinearRegression(torch.nn.Module):\n",
    "    def __init__(self, in_features, out_features):\n",
    "        super(LinearRegression, self).__init__()\n",
    "        self.linear = torch.nn.Linear(in_features=in_features, out_features=out_features, bias=True)\n",
    "    def forward(self, x):\n",
    "        y_pred = self.linear(x)\n",
    "        return y_pred"
   ]
  },
  {
   "cell_type": "code",
   "execution_count": 20,
   "metadata": {
    "ExecuteTime": {
     "end_time": "2021-05-16T21:56:53.096883Z",
     "start_time": "2021-05-16T21:56:53.089811Z"
    }
   },
   "outputs": [
    {
     "data": {
      "text/plain": [
       "(1000,)"
      ]
     },
     "execution_count": 20,
     "metadata": {},
     "output_type": "execute_result"
    }
   ],
   "source": [
    "class_targets.shape"
   ]
  },
  {
   "cell_type": "code",
   "execution_count": 21,
   "metadata": {
    "ExecuteTime": {
     "end_time": "2021-05-16T21:56:53.616426Z",
     "start_time": "2021-05-16T21:56:53.610444Z"
    }
   },
   "outputs": [],
   "source": [
    "model = LinearRegression(class_data.shape[1], 1)"
   ]
  },
  {
   "cell_type": "code",
   "execution_count": 22,
   "metadata": {
    "ExecuteTime": {
     "end_time": "2021-05-16T21:56:54.191632Z",
     "start_time": "2021-05-16T21:56:54.186159Z"
    }
   },
   "outputs": [],
   "source": [
    "learning_rate = 0.001\n",
    "criterion = torch.nn.MSELoss()\n",
    "optimizer = torch.optim.SGD(model.parameters(), lr = learning_rate)"
   ]
  },
  {
   "cell_type": "code",
   "execution_count": 23,
   "metadata": {
    "ExecuteTime": {
     "end_time": "2021-05-16T21:56:57.795008Z",
     "start_time": "2021-05-16T21:56:55.002143Z"
    }
   },
   "outputs": [
    {
     "data": {
      "application/vnd.jupyter.widget-view+json": {
       "model_id": "986ae2722e0241ddb1be7f3b3f35c55f",
       "version_major": 2,
       "version_minor": 0
      },
      "text/plain": [
       "  0%|          | 0/30 [00:00<?, ?it/s]"
      ]
     },
     "metadata": {},
     "output_type": "display_data"
    },
    {
     "name": "stderr",
     "output_type": "stream",
     "text": [
      "/home/shmalex/anaconda3/envs/pt/lib/python3.7/site-packages/torch/nn/modules/loss.py:528: UserWarning: Using a target size (torch.Size([4, 1])) that is different to the input size (torch.Size([4])). This will likely lead to incorrect results due to broadcasting. Please ensure they have the same size.\n",
      "  return F.mse_loss(input, target, reduction=self.reduction)\n",
      "/home/shmalex/anaconda3/envs/pt/lib/python3.7/site-packages/torch/nn/modules/loss.py:528: UserWarning: Using a target size (torch.Size([2, 1])) that is different to the input size (torch.Size([2])). This will likely lead to incorrect results due to broadcasting. Please ensure they have the same size.\n",
      "  return F.mse_loss(input, target, reduction=self.reduction)\n"
     ]
    },
    {
     "name": "stdout",
     "output_type": "stream",
     "text": [
      "Epoch 0 loss 0.0049\n",
      "Epoch 1 loss 0.0027\n",
      "Epoch 2 loss 0.0017\n",
      "Epoch 3 loss 0.0012\n",
      "Epoch 4 loss 0.0009\n",
      "Epoch 5 loss 0.0008\n",
      "Epoch 6 loss 0.0007\n",
      "Epoch 7 loss 0.0006\n",
      "Epoch 8 loss 0.0006\n",
      "Epoch 9 loss 0.0006\n",
      "Epoch 10 loss 0.0006\n",
      "Epoch 11 loss 0.0006\n",
      "Epoch 12 loss 0.0006\n",
      "Epoch 13 loss 0.0006\n",
      "Epoch 14 loss 0.0006\n",
      "Epoch 15 loss 0.0006\n",
      "Epoch 16 loss 0.0006\n",
      "Epoch 17 loss 0.0006\n",
      "Epoch 18 loss 0.0006\n",
      "Epoch 19 loss 0.0006\n",
      "Epoch 20 loss 0.0006\n",
      "Epoch 21 loss 0.0006\n",
      "Epoch 22 loss 0.0006\n",
      "Epoch 23 loss 0.0006\n",
      "Epoch 24 loss 0.0006\n",
      "Epoch 25 loss 0.0006\n",
      "Epoch 26 loss 0.0006\n",
      "Epoch 27 loss 0.0006\n",
      "Epoch 28 loss 0.0006\n",
      "Epoch 29 loss 0.0006\n"
     ]
    }
   ],
   "source": [
    "for epoch in tqdm.notebook.tqdm(range(epochs)):\n",
    "    epoch_loss = 0\n",
    "    counter = 0\n",
    "    for data in train_loader:\n",
    "        xtrain = data['x']\n",
    "        ytrain = data['y']\n",
    "        # clear gradient buffer to prevent gradients carriout from prev epoches\n",
    "        optimizer.zero_grad()\n",
    "        \n",
    "        # predict on train data\n",
    "        y_pred = model(xtrain)\n",
    "        loss = criterion(ytrain,y_pred)\n",
    "        loss.backward()\n",
    "        optimizer.step()\n",
    "        epoch_loss += loss.item()\n",
    "        counter +=1\n",
    "    print(f'Epoch {epoch} loss {loss/counter:.4f}')"
   ]
  },
  {
   "cell_type": "code",
   "execution_count": 24,
   "metadata": {
    "ExecuteTime": {
     "end_time": "2021-05-15T02:06:09.540245Z",
     "start_time": "2021-05-15T02:06:09.514479Z"
    }
   },
   "outputs": [],
   "source": [
    "outputs = []\n",
    "labels = []\n",
    "with torch.no_grad():\n",
    "    for data in test_loader:\n",
    "        xtest = data['x']\n",
    "        ytest = data['y']\n",
    "        \n",
    "        output = model(xtest)\n",
    "        labels.append(ytest)\n",
    "        outputs.append(output)"
   ]
  },
  {
   "cell_type": "code",
   "execution_count": 24,
   "metadata": {
    "ExecuteTime": {
     "end_time": "2021-05-16T21:57:08.004708Z",
     "start_time": "2021-05-16T21:57:07.992801Z"
    }
   },
   "outputs": [
    {
     "data": {
      "text/plain": [
       "0.967296"
      ]
     },
     "execution_count": 24,
     "metadata": {},
     "output_type": "execute_result"
    }
   ],
   "source": [
    "metrics.roc_auc_score(torch.cat(labels).view(-1),torch.cat(outputs).view(-1))"
   ]
  },
  {
   "cell_type": "code",
   "execution_count": null,
   "metadata": {},
   "outputs": [],
   "source": []
  }
 ],
 "metadata": {
  "kernelspec": {
   "display_name": "pt",
   "language": "python",
   "name": "pt"
  },
  "language_info": {
   "codemirror_mode": {
    "name": "ipython",
    "version": 3
   },
   "file_extension": ".py",
   "mimetype": "text/x-python",
   "name": "python",
   "nbconvert_exporter": "python",
   "pygments_lexer": "ipython3",
   "version": "3.7.9"
  }
 },
 "nbformat": 4,
 "nbformat_minor": 4
}
