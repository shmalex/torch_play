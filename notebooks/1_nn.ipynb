{
 "cells": [
  {
   "cell_type": "code",
   "execution_count": 1,
   "metadata": {
    "ExecuteTime": {
     "end_time": "2021-05-15T01:41:52.029026Z",
     "start_time": "2021-05-15T01:41:50.899886Z"
    }
   },
   "outputs": [
    {
     "name": "stdout",
     "output_type": "stream",
     "text": [
      "1.5.0\n"
     ]
    }
   ],
   "source": [
    "import numpy as np\n",
    "import torch\n",
    "print(torch.__version__)\n",
    "from matplotlib import pyplot as plt\n",
    "from torch import nn\n",
    "from torchvision import datasets, transforms"
   ]
  },
  {
   "cell_type": "markdown",
   "metadata": {},
   "source": [
    "Transformer"
   ]
  },
  {
   "cell_type": "code",
   "execution_count": 2,
   "metadata": {
    "ExecuteTime": {
     "end_time": "2021-05-15T01:41:53.134695Z",
     "start_time": "2021-05-15T01:41:53.129332Z"
    }
   },
   "outputs": [],
   "source": [
    "transform = transforms.Compose([transforms.ToTensor(), transforms.Normalize((0.5,), (0.5,))])"
   ]
  },
  {
   "cell_type": "code",
   "execution_count": 3,
   "metadata": {
    "ExecuteTime": {
     "end_time": "2021-05-15T01:41:53.628881Z",
     "start_time": "2021-05-15T01:41:53.624889Z"
    }
   },
   "outputs": [],
   "source": [
    "batch_size = 64"
   ]
  },
  {
   "cell_type": "code",
   "execution_count": 4,
   "metadata": {
    "ExecuteTime": {
     "end_time": "2021-05-15T01:41:54.478960Z",
     "start_time": "2021-05-15T01:41:54.434224Z"
    }
   },
   "outputs": [],
   "source": [
    "trainset = datasets.FashionMNIST('~/.pytorch/F_MNIST_data', download=True, train=True, transform=transform)\n",
    "trainloader = torch.utils.data.DataLoader(trainset, batch_size=batch_size, shuffle=True)"
   ]
  },
  {
   "cell_type": "code",
   "execution_count": 5,
   "metadata": {
    "ExecuteTime": {
     "end_time": "2021-05-15T01:41:55.087829Z",
     "start_time": "2021-05-15T01:41:55.067721Z"
    }
   },
   "outputs": [],
   "source": [
    "testset = datasets.FashionMNIST('/home/shmalex/.pytorch/F_MNIST_data/', download=True, train=False, transform=transform)\n",
    "\n",
    "testloader = torch.utils.data.DataLoader(testset, batch_size=batch_size, shuffle=True)"
   ]
  },
  {
   "cell_type": "markdown",
   "metadata": {},
   "source": [
    "Read more\n",
    "https://pytorch.org/tutorials/beginner/blitz/neural_networks_tutorial.html#sphx-glr-beginner-blitz-neural-networks-tutorial-py"
   ]
  },
  {
   "cell_type": "code",
   "execution_count": 6,
   "metadata": {
    "ExecuteTime": {
     "end_time": "2021-05-15T01:41:56.236831Z",
     "start_time": "2021-05-15T01:41:56.225924Z"
    }
   },
   "outputs": [],
   "source": [
    "# You can access the weight and bias\n",
    "# tensors from the model object with model.hidden1.weight and model.hidden1.bias .\n",
    "class FashionNetwork(nn.Module):\n",
    "    def __init__(self):\n",
    "        super().__init__()\n",
    "        # 1st hidden layer\n",
    "        # images has 28x28 pixels = 784\n",
    "        self.hidden1 = nn.Linear(784, 256)\n",
    "        self.hidden2 = nn.Linear(256, 128)\n",
    "        # output layer\n",
    "        self.output = nn.Linear(128, 10)\n",
    "        # softmax activations for last layer\n",
    "        # The softmax layer converts the activations into probabilities \n",
    "        # so that it adds to 1 along dimension 1.\n",
    "#         self.softmax = nn.Softmax(dim=1)\n",
    "        self.log_softmax = nn.LogSoftmax(dim=1)\n",
    "        # activation function in the inner layer\n",
    "        # We use ReLU activation in the layers before the output layer to learn nonlinearity in the data.\n",
    "        self.activation = nn.ReLU()\n",
    "    def forward(self, x):\n",
    "        \"\"\"\n",
    "        A network defined with nn.Module needs to have a forward() method defined. \n",
    "        x = input tesor\n",
    "        \"\"\"\n",
    "        # Now we will move the input to the first hidden layer, with 256 nodes:\n",
    "        x = self.hidden1(x)\n",
    "        # Next, we pass the outputs from the first hidden layer through \n",
    "        # the activation function, which in our case is ReLU:\n",
    "        x = self.activation(x)\n",
    "        # We will repeat the same for the second layer, which has 128 nodes, \n",
    "        # and pass it through ReLU:\n",
    "        x = self.hidden2(x)\n",
    "        x = self.activation(x)\n",
    "        # Now we pass the last output layer, with 10 output classes\n",
    "        x = self.output(x)\n",
    "        output = self.log_softmax(x)\n",
    "\n",
    "        return output"
   ]
  },
  {
   "cell_type": "code",
   "execution_count": 7,
   "metadata": {
    "ExecuteTime": {
     "end_time": "2021-05-15T01:41:57.607170Z",
     "start_time": "2021-05-15T01:41:57.595087Z"
    }
   },
   "outputs": [],
   "source": [
    "model = FashionNetwork()"
   ]
  },
  {
   "cell_type": "code",
   "execution_count": 8,
   "metadata": {
    "ExecuteTime": {
     "end_time": "2021-05-15T01:41:57.998688Z",
     "start_time": "2021-05-15T01:41:57.990298Z"
    }
   },
   "outputs": [
    {
     "data": {
      "text/plain": [
       "FashionNetwork(\n",
       "  (hidden1): Linear(in_features=784, out_features=256, bias=True)\n",
       "  (hidden2): Linear(in_features=256, out_features=128, bias=True)\n",
       "  (output): Linear(in_features=128, out_features=10, bias=True)\n",
       "  (log_softmax): LogSoftmax()\n",
       "  (activation): ReLU()\n",
       ")"
      ]
     },
     "execution_count": 8,
     "metadata": {},
     "output_type": "execute_result"
    }
   ],
   "source": [
    "model"
   ]
  },
  {
   "cell_type": "code",
   "execution_count": 9,
   "metadata": {
    "ExecuteTime": {
     "end_time": "2021-05-15T01:41:59.233227Z",
     "start_time": "2021-05-15T01:41:59.226356Z"
    }
   },
   "outputs": [
    {
     "data": {
      "text/plain": [
       "(torch.Size([256, 784]), torch.Size([128, 256]))"
      ]
     },
     "execution_count": 9,
     "metadata": {},
     "output_type": "execute_result"
    }
   ],
   "source": [
    "model.hidden1.weight.shape, model.hidden2.weight.shape"
   ]
  },
  {
   "cell_type": "markdown",
   "metadata": {},
   "source": [
    "we will use negative log likelihood loss for this"
   ]
  },
  {
   "cell_type": "markdown",
   "metadata": {},
   "source": [
    "$\\text{LogSoftmax}(x_{i}) = \\log\\left(\\frac{\\exp(x_i) }{ \\sum_j \\exp(x_j)} \\right)$\n",
    "\n",
    "$\\text{Softmax}(x_{i}) = \\frac{\\exp(x_i)}{\\sum_j \\exp(x_j)}$"
   ]
  },
  {
   "cell_type": "code",
   "execution_count": 21,
   "metadata": {
    "ExecuteTime": {
     "end_time": "2021-05-15T01:43:23.170416Z",
     "start_time": "2021-05-15T01:43:23.164639Z"
    }
   },
   "outputs": [],
   "source": [
    "data = range(0,10)\n",
    "\n",
    "data_sm = np.exp(data)/np.sum(np.exp(data))\n",
    "data_log_sm = np.log(data_sm)"
   ]
  },
  {
   "cell_type": "code",
   "execution_count": 22,
   "metadata": {
    "ExecuteTime": {
     "end_time": "2021-05-15T01:43:23.561695Z",
     "start_time": "2021-05-15T01:43:23.554682Z"
    }
   },
   "outputs": [
    {
     "data": {
      "text/plain": [
       "(array([7.80134161e-05, 2.12062451e-04, 5.76445508e-04, 1.56694135e-03,\n",
       "        4.25938820e-03, 1.15782175e-02, 3.14728583e-02, 8.55520989e-02,\n",
       "        2.32554716e-01, 6.32149258e-01]),\n",
       " array([-9.45862974, -8.45862974, -7.45862974, -6.45862974, -5.45862974,\n",
       "        -4.45862974, -3.45862974, -2.45862974, -1.45862974, -0.45862974]))"
      ]
     },
     "execution_count": 22,
     "metadata": {},
     "output_type": "execute_result"
    }
   ],
   "source": [
    "data_sm, data_log_sm"
   ]
  },
  {
   "cell_type": "code",
   "execution_count": 23,
   "metadata": {
    "ExecuteTime": {
     "end_time": "2021-05-15T01:43:24.101668Z",
     "start_time": "2021-05-15T01:43:23.946370Z"
    }
   },
   "outputs": [
    {
     "data": {
      "text/plain": [
       "(range(0, 10), [<matplotlib.lines.Line2D at 0x7f6efe249b10>], 1.0)"
      ]
     },
     "execution_count": 23,
     "metadata": {},
     "output_type": "execute_result"
    },
    {
     "data": {
      "image/png": "[encoded data removed]",
      "text/plain": [
       "<Figure size 432x288 with 1 Axes>"
      ]
     },
     "metadata": {
      "needs_background": "light"
     },
     "output_type": "display_data"
    }
   ],
   "source": [
    "data, plt.plot(data_sm), np.sum(data_sm)"
   ]
  },
  {
   "cell_type": "code",
   "execution_count": 24,
   "metadata": {
    "ExecuteTime": {
     "end_time": "2021-05-15T01:43:25.544732Z",
     "start_time": "2021-05-15T01:43:25.403018Z"
    }
   },
   "outputs": [
    {
     "data": {
      "text/plain": [
       "[<matplotlib.lines.Line2D at 0x7f6efe85ef90>]"
      ]
     },
     "execution_count": 24,
     "metadata": {},
     "output_type": "execute_result"
    },
    {
     "data": {
      "image/png": "[encoded data removed]",
      "text/plain": [
       "<Figure size 432x288 with 1 Axes>"
      ]
     },
     "metadata": {
      "needs_background": "light"
     },
     "output_type": "display_data"
    }
   ],
   "source": [
    "plt.plot(data_log_sm)"
   ]
  },
  {
   "cell_type": "code",
   "execution_count": 10,
   "metadata": {
    "ExecuteTime": {
     "end_time": "2021-04-28T15:06:26.660826Z",
     "start_time": "2021-04-28T15:06:26.656058Z"
    }
   },
   "outputs": [],
   "source": [
    "criterion = nn.NLLLoss()"
   ]
  },
  {
   "cell_type": "markdown",
   "metadata": {},
   "source": [
    "Adding optimizer. we have loss funtions, that gives the error of prediction. that error will be used by optimizer so it will backpropogate the update of the weights on NN. Optimizer calculates derivative of error with respect to weights to resude the error. derivative shows the slope of the error funtions growth, so we take negativte direction. the step by which the weights are changed is called learning rate. it help to gradually change the weights and not skip the optimal solution."
   ]
  },
  {
   "cell_type": "code",
   "execution_count": 11,
   "metadata": {
    "ExecuteTime": {
     "end_time": "2021-04-28T15:06:27.208574Z",
     "start_time": "2021-04-28T15:06:27.203647Z"
    }
   },
   "outputs": [],
   "source": [
    "from torch import optim"
   ]
  },
  {
   "cell_type": "code",
   "execution_count": 12,
   "metadata": {
    "ExecuteTime": {
     "end_time": "2021-04-28T15:06:27.503419Z",
     "start_time": "2021-04-28T15:06:27.498614Z"
    }
   },
   "outputs": [],
   "source": [
    "# Adam: A Method for Stochastic Optimization\n",
    "optimizer = optim.Adam(model.parameters())"
   ]
  },
  {
   "cell_type": "code",
   "execution_count": 13,
   "metadata": {
    "ExecuteTime": {
     "end_time": "2021-04-28T15:06:27.804585Z",
     "start_time": "2021-04-28T15:06:27.798546Z"
    }
   },
   "outputs": [
    {
     "data": {
      "text/plain": [
       "Adam (\n",
       "Parameter Group 0\n",
       "    amsgrad: False\n",
       "    betas: (0.9, 0.999)\n",
       "    eps: 1e-08\n",
       "    lr: 0.001\n",
       "    weight_decay: 0\n",
       ")"
      ]
     },
     "execution_count": 13,
     "metadata": {},
     "output_type": "execute_result"
    }
   ],
   "source": [
    "optimizer"
   ]
  },
  {
   "cell_type": "code",
   "execution_count": 14,
   "metadata": {
    "ExecuteTime": {
     "end_time": "2021-04-28T15:06:28.307662Z",
     "start_time": "2021-04-28T15:06:28.303126Z"
    }
   },
   "outputs": [],
   "source": [
    "epoch = 20"
   ]
  },
  {
   "cell_type": "code",
   "execution_count": 15,
   "metadata": {
    "ExecuteTime": {
     "end_time": "2021-04-28T15:06:28.963866Z",
     "start_time": "2021-04-28T15:06:28.959602Z"
    }
   },
   "outputs": [],
   "source": [
    "import tqdm"
   ]
  },
  {
   "cell_type": "code",
   "execution_count": 16,
   "metadata": {
    "ExecuteTime": {
     "end_time": "2021-04-27T15:17:23.115942Z",
     "start_time": "2021-04-27T15:11:07.906172Z"
    }
   },
   "outputs": [
    {
     "data": {
      "application/vnd.jupyter.widget-view+json": {
       "model_id": "d3f9455b48b24847b3dfe01b61556c07",
       "version_major": 2,
       "version_minor": 0
      },
      "text/plain": [
       "HBox(children=(HTML(value=''), FloatProgress(value=0.0, max=20.0), HTML(value='')))"
      ]
     },
     "metadata": {},
     "output_type": "display_data"
    },
    {
     "name": "stdout",
     "output_type": "stream",
     "text": [
      "Trainin loss: 0.4917\n",
      "Trainin loss: 0.3689\n",
      "Trainin loss: 0.3291\n",
      "Trainin loss: 0.3052\n",
      "Trainin loss: 0.2886\n",
      "Trainin loss: 0.2704\n",
      "Trainin loss: 0.2582\n",
      "Trainin loss: 0.2434\n",
      "Trainin loss: 0.2344\n",
      "Trainin loss: 0.2213\n",
      "Trainin loss: 0.2126\n",
      "Trainin loss: 0.2023\n",
      "Trainin loss: 0.1931\n",
      "Trainin loss: 0.1858\n",
      "Trainin loss: 0.1797\n",
      "Trainin loss: 0.1699\n",
      "Trainin loss: 0.1631\n",
      "Trainin loss: 0.1560\n",
      "Trainin loss: 0.1512\n",
      "Trainin loss: 0.1424\n",
      "\n"
     ]
    }
   ],
   "source": [
    "for _ in tqdm.notebook.tqdm(range(epoch)):\n",
    "    running_loss = 0\n",
    "    for image, label in trainloader:\n",
    "        # why we need to call zero_grad?\n",
    "        optimizer.zero_grad()\n",
    "        # flattens images into 784xbatch size\n",
    "        image = image.view(image.shape[0],-1)\n",
    "        # run the model\n",
    "        pred = model(image)\n",
    "        # calculates the loss function\n",
    "        loss = criterion(pred, label)\n",
    "        # propogates the error - calculates the gradients\n",
    "        loss.backward()\n",
    "        # updates the weights\n",
    "        optimizer.step()\n",
    "        running_loss += loss.item()\n",
    "    else:\n",
    "        print(f'Trainin loss: {running_loss/len(trainloader):.4f}')\n",
    "        "
   ]
  },
  {
   "cell_type": "code",
   "execution_count": 31,
   "metadata": {
    "ExecuteTime": {
     "end_time": "2021-04-27T17:15:18.352311Z",
     "start_time": "2021-04-27T17:15:18.344754Z"
    }
   },
   "outputs": [
    {
     "data": {
      "text/plain": [
       "0.12523552775382996"
      ]
     },
     "execution_count": 31,
     "metadata": {},
     "output_type": "execute_result"
    }
   ],
   "source": [
    "loss.item()"
   ]
  },
  {
   "cell_type": "code",
   "execution_count": 28,
   "metadata": {
    "ExecuteTime": {
     "end_time": "2021-04-27T17:13:48.215129Z",
     "start_time": "2021-04-27T17:13:48.207973Z"
    }
   },
   "outputs": [
    {
     "data": {
      "text/plain": [
       "6"
      ]
     },
     "execution_count": 28,
     "metadata": {},
     "output_type": "execute_result"
    }
   ],
   "source": [
    "len(optimizer.state.items())"
   ]
  },
  {
   "cell_type": "code",
   "execution_count": 17,
   "metadata": {
    "ExecuteTime": {
     "end_time": "2021-04-27T15:17:23.121242Z",
     "start_time": "2021-04-27T15:17:23.117635Z"
    }
   },
   "outputs": [
    {
     "data": {
      "text/plain": [
       "torch.Size([32])"
      ]
     },
     "execution_count": 17,
     "metadata": {},
     "output_type": "execute_result"
    }
   ],
   "source": [
    "label.shape"
   ]
  },
  {
   "cell_type": "code",
   "execution_count": 18,
   "metadata": {
    "ExecuteTime": {
     "end_time": "2021-04-27T15:17:23.134722Z",
     "start_time": "2021-04-27T15:17:23.122882Z"
    }
   },
   "outputs": [
    {
     "data": {
      "text/plain": [
       "tensor([6, 0, 8, 9, 1, 6, 4, 4, 0, 5, 0, 1, 2, 3, 5, 3, 2, 8, 7, 3, 7, 9, 0, 8,\n",
       "        3, 3, 9, 0, 0, 7, 6, 9])"
      ]
     },
     "execution_count": 18,
     "metadata": {},
     "output_type": "execute_result"
    }
   ],
   "source": [
    "label"
   ]
  },
  {
   "cell_type": "code",
   "execution_count": 19,
   "metadata": {
    "ExecuteTime": {
     "end_time": "2021-04-27T15:17:23.306852Z",
     "start_time": "2021-04-27T15:17:23.136732Z"
    }
   },
   "outputs": [
    {
     "data": {
      "text/plain": [
       "<matplotlib.image.AxesImage at 0x7f2fc030d4d0>"
      ]
     },
     "execution_count": 19,
     "metadata": {},
     "output_type": "execute_result"
    },
    {
     "data": {
      "image/png": "[encoded data removed]",
      "text/plain": [
       "<Figure size 432x288 with 1 Axes>"
      ]
     },
     "metadata": {
      "needs_background": "light"
     },
     "output_type": "display_data"
    }
   ],
   "source": [
    "pyplot.imshow(image[3].reshape(28,28))"
   ]
  },
  {
   "cell_type": "code",
   "execution_count": 23,
   "metadata": {
    "ExecuteTime": {
     "end_time": "2021-04-27T17:11:57.829427Z",
     "start_time": "2021-04-27T17:11:57.823073Z"
    }
   },
   "outputs": [
    {
     "data": {
      "text/plain": [
       "<bound method Module.parameters of FashionNetwork(\n",
       "  (hidden1): Linear(in_features=784, out_features=256, bias=True)\n",
       "  (hidden2): Linear(in_features=256, out_features=128, bias=True)\n",
       "  (output): Linear(in_features=128, out_features=10, bias=True)\n",
       "  (log_softmax): LogSoftmax()\n",
       "  (activation): ReLU()\n",
       ")>"
      ]
     },
     "execution_count": 23,
     "metadata": {},
     "output_type": "execute_result"
    }
   ],
   "source": [
    "model.parameters"
   ]
  },
  {
   "cell_type": "markdown",
   "metadata": {},
   "source": [
    "Implementint Dropouts"
   ]
  },
  {
   "cell_type": "code",
   "execution_count": 32,
   "metadata": {
    "ExecuteTime": {
     "end_time": "2021-04-27T17:22:49.054105Z",
     "start_time": "2021-04-27T17:22:49.040384Z"
    }
   },
   "outputs": [],
   "source": [
    "# You can access the weight and bias\n",
    "# tensors from the model object with model.hidden1.weight and model.hidden1.bias .\n",
    "class FashionNetwork(nn.Module):\n",
    "    def __init__(self):\n",
    "        super().__init__()\n",
    "        # 1st hidden layer\n",
    "        # images has 28x28 pixels = 784\n",
    "        self.hidden1 = nn.Linear(784, 256)\n",
    "        self.hidden2 = nn.Linear(256, 128)\n",
    "        # output layer\n",
    "        self.output = nn.Linear(128, 10)\n",
    "        # softmax activations for last layer\n",
    "        # The softmax layer converts the activations into probabilities \n",
    "        # so that it adds to 1 along dimension 1.\n",
    "        # self.softmax = nn.Softmax(dim=1)\n",
    "        self.log_softmax = nn.LogSoftmax(dim=1)\n",
    "        # activation function in the inner layer\n",
    "        # We use ReLU activation in the layers before the output layer to learn nonlinearity in the data.\n",
    "        self.activation = nn.ReLU()\n",
    "\n",
    "        ############### adding dropouts\n",
    "        self.drop = nn.Dropout(p=0.25)\n",
    "    def forward(self, x):\n",
    "        \"\"\"\n",
    "        A network defined with nn.Module needs to have a forward() method defined. \n",
    "        x = input tesor\n",
    "        \"\"\"\n",
    "        # Now we will move the input to the first hidden layer, with 256 nodes:\n",
    "        x = self.hidden1(x)\n",
    "        # Next, we pass the outputs from the first hidden layer through \n",
    "        # the activation function, which in our case is ReLU:\n",
    "        x = self.activation(x)\n",
    "        x = self.drop(x) # <<<<<<<<<<<<<<<<<<<<\n",
    "        # We will repeat the same for the second layer, which has 128 nodes, \n",
    "        # and pass it through ReLU:\n",
    "        x = self.hidden2(x)\n",
    "        x = self.activation(x)\n",
    "        x = self.drop(x) # <<<<<<<<<<<<<<<<<<<<\n",
    "        # Now we pass the last output layer, with 10 output classes\n",
    "        x = self.output(x)\n",
    "        output = self.log_softmax(x)\n",
    "\n",
    "        return output"
   ]
  },
  {
   "cell_type": "code",
   "execution_count": 36,
   "metadata": {
    "ExecuteTime": {
     "end_time": "2021-04-27T17:38:30.847507Z",
     "start_time": "2021-04-27T17:31:57.898608Z"
    }
   },
   "outputs": [
    {
     "data": {
      "application/vnd.jupyter.widget-view+json": {
       "model_id": "3bf2f1c3a6d747cdbbc9d069766d9000",
       "version_major": 2,
       "version_minor": 0
      },
      "text/plain": [
       "HBox(children=(HTML(value=''), FloatProgress(value=0.0, max=20.0), HTML(value='')))"
      ]
     },
     "metadata": {},
     "output_type": "display_data"
    },
    {
     "name": "stdout",
     "output_type": "stream",
     "text": [
      "Trainin loss: 0.5554\n",
      "Trainin loss: 0.4234\n",
      "Trainin loss: 0.3877\n",
      "Trainin loss: 0.3644\n",
      "Trainin loss: 0.3495\n",
      "Trainin loss: 0.3367\n",
      "Trainin loss: 0.3298\n",
      "Trainin loss: 0.3166\n",
      "Trainin loss: 0.3092\n",
      "Trainin loss: 0.3008\n",
      "Trainin loss: 0.2942\n",
      "Trainin loss: 0.2892\n",
      "Trainin loss: 0.2851\n",
      "Trainin loss: 0.2768\n",
      "Trainin loss: 0.2750\n",
      "Trainin loss: 0.2667\n",
      "Trainin loss: 0.2658\n",
      "Trainin loss: 0.2627\n",
      "Trainin loss: 0.2603\n",
      "Trainin loss: 0.2549\n",
      "\n"
     ]
    }
   ],
   "source": [
    "model = FashionNetwork()\n",
    "epoch = 20\n",
    "optimizer = optim.Adam(model.parameters())\n",
    "for _ in tqdm.notebook.tqdm(range(epoch)):\n",
    "    running_loss = 0\n",
    "    for image, label in trainloader:\n",
    "        optimizer.zero_grad()\n",
    "        image = image.view(image.shape[0], -1)\n",
    "        pred = model(image)\n",
    "        loss = criterion(pred, label)\n",
    "        loss.backward()\n",
    "        optimizer.step()\n",
    "        running_loss += loss.item()\n",
    "    print(f'Trainin loss: {running_loss/len(trainloader):.4f}')\n"
   ]
  },
  {
   "cell_type": "code",
   "execution_count": 51,
   "metadata": {
    "ExecuteTime": {
     "end_time": "2021-04-28T15:14:39.374401Z",
     "start_time": "2021-04-28T15:14:39.363483Z"
    }
   },
   "outputs": [],
   "source": [
    "def train_model(model):\n",
    "    epoch = 20\n",
    "    optimizer = optim.Adam(model.parameters())\n",
    "    for _ in tqdm.notebook.tqdm(range(epoch)):\n",
    "        running_loss = 0\n",
    "        for image, label in trainloader:\n",
    "            optimizer.zero_grad()\n",
    "            image = image.view(image.shape[0], -1)\n",
    "            pred = model(image)\n",
    "            loss = criterion(pred, label)\n",
    "            loss.backward()\n",
    "            optimizer.step()\n",
    "            running_loss += loss.item()\n",
    "        print(f'Trainin loss: {running_loss/len(trainloader):.4f}')\n"
   ]
  },
  {
   "cell_type": "code",
   "execution_count": null,
   "metadata": {},
   "outputs": [],
   "source": []
  },
  {
   "cell_type": "code",
   "execution_count": 52,
   "metadata": {
    "ExecuteTime": {
     "end_time": "2021-04-28T15:14:41.383410Z",
     "start_time": "2021-04-28T15:14:41.378598Z"
    }
   },
   "outputs": [],
   "source": [
    "import torch.nn.functional as F"
   ]
  },
  {
   "cell_type": "code",
   "execution_count": 53,
   "metadata": {
    "ExecuteTime": {
     "end_time": "2021-04-28T15:14:41.696025Z",
     "start_time": "2021-04-28T15:14:41.682856Z"
    }
   },
   "outputs": [],
   "source": [
    "class FashionNetwork(nn.Module):\n",
    "    def __init__(self):\n",
    "        super().__init__()\n",
    "        self.hidden1 = nn.Linear(784, 16*16)\n",
    "        self.hidden2 = nn.Linear(16*16, 12*12)\n",
    "        self.hidden3 = nn.Linear(12*12, 8*8)\n",
    "        self.output = nn.Linear(8*8, 10)\n",
    "    def forward(self, x):\n",
    "        x = F.dropout(F.relu(self.hidden1(x)), p=.25)\n",
    "        x = F.dropout(F.relu(self.hidden2(x)), p=.25)\n",
    "        x = F.dropout(F.relu(self.hidden3(x)), p=.25)\n",
    "        x = F.log_softmax(self.output(x), dim=1)\n",
    "        return x"
   ]
  },
  {
   "cell_type": "code",
   "execution_count": 54,
   "metadata": {
    "ExecuteTime": {
     "end_time": "2021-04-28T15:21:46.444213Z",
     "start_time": "2021-04-28T15:14:42.046885Z"
    }
   },
   "outputs": [
    {
     "data": {
      "application/vnd.jupyter.widget-view+json": {
       "model_id": "37627c7ffa3f4837ade3fd83eb83ff88",
       "version_major": 2,
       "version_minor": 0
      },
      "text/plain": [
       "HBox(children=(HTML(value=''), FloatProgress(value=0.0, max=20.0), HTML(value='')))"
      ]
     },
     "metadata": {},
     "output_type": "display_data"
    },
    {
     "name": "stdout",
     "output_type": "stream",
     "text": [
      "Trainin loss: 0.6225\n",
      "Trainin loss: 0.4522\n",
      "Trainin loss: 0.4159\n",
      "Trainin loss: 0.3891\n",
      "Trainin loss: 0.3686\n",
      "Trainin loss: 0.3583\n",
      "Trainin loss: 0.3462\n",
      "Trainin loss: 0.3387\n",
      "Trainin loss: 0.3308\n",
      "Trainin loss: 0.3232\n",
      "Trainin loss: 0.3159\n",
      "Trainin loss: 0.3104\n",
      "Trainin loss: 0.3052\n",
      "Trainin loss: 0.3008\n",
      "Trainin loss: 0.2933\n",
      "Trainin loss: 0.2894\n",
      "Trainin loss: 0.2861\n",
      "Trainin loss: 0.2778\n",
      "Trainin loss: 0.2812\n",
      "Trainin loss: 0.2714\n",
      "\n"
     ]
    }
   ],
   "source": [
    "model = FashionNetwork()\n",
    "train_model(model)"
   ]
  },
  {
   "cell_type": "code",
   "execution_count": 55,
   "metadata": {
    "ExecuteTime": {
     "end_time": "2021-04-28T15:28:08.204585Z",
     "start_time": "2021-04-28T15:28:08.106255Z"
    }
   },
   "outputs": [
    {
     "name": "stderr",
     "output_type": "stream",
     "text": [
      "/home/shmalex/.conda/envs/py37/lib/python3.7/site-packages/torch/serialization.py:402: UserWarning: Couldn't retrieve source code for container of type FashionNetwork. It won't be checked for correctness upon loading.\n",
      "  \"type \" + obj.__name__ + \". It won't be checked \"\n"
     ]
    }
   ],
   "source": [
    "torch.save(model, open('./models/fashion','wb'), )"
   ]
  },
  {
   "cell_type": "code",
   "execution_count": 22,
   "metadata": {
    "ExecuteTime": {
     "end_time": "2021-04-28T15:08:19.153131Z",
     "start_time": "2021-04-28T15:08:19.124146Z"
    }
   },
   "outputs": [
    {
     "data": {
      "text/plain": [
       "FashionNetwork(\n",
       "  (hidden1): Linear(in_features=784, out_features=256, bias=True)\n",
       "  (hidden2): Linear(in_features=256, out_features=128, bias=True)\n",
       "  (hidden3): Linear(in_features=128, out_features=64, bias=True)\n",
       "  (output): Linear(in_features=64, out_features=10, bias=True)\n",
       ")"
      ]
     },
     "execution_count": 22,
     "metadata": {},
     "output_type": "execute_result"
    }
   ],
   "source": [
    "model = torch.load(open('./models/fashion', 'rb'))\n",
    "\n",
    "model"
   ]
  },
  {
   "cell_type": "code",
   "execution_count": 56,
   "metadata": {
    "ExecuteTime": {
     "end_time": "2021-04-28T15:28:22.668521Z",
     "start_time": "2021-04-28T15:28:22.638057Z"
    }
   },
   "outputs": [
    {
     "data": {
      "text/plain": [
       "array([8, 0, 6, 2, 1, 8, 0, 8, 2, 1, 7, 0, 4, 4, 8, 2, 7, 6, 2, 1, 3, 1,\n",
       "       1, 4, 2, 3, 3, 8, 6, 3, 8, 7, 0, 7, 4, 2, 7, 3, 1, 7, 4, 6, 8, 4,\n",
       "       9, 8, 2, 6, 6, 8, 6, 3, 2, 5, 1, 8, 7, 4, 4, 4, 6, 6, 3, 4])"
      ]
     },
     "execution_count": 56,
     "metadata": {},
     "output_type": "execute_result"
    }
   ],
   "source": [
    "model.eval()\n",
    "for image, label in testloader:\n",
    "    image = image.view(image.shape[0],-1)\n",
    "    pred=model(image)\n",
    "    break\n",
    "np.argmax(pred.detach().numpy(), axis=1)"
   ]
  },
  {
   "cell_type": "code",
   "execution_count": 57,
   "metadata": {
    "ExecuteTime": {
     "end_time": "2021-04-28T15:28:25.541245Z",
     "start_time": "2021-04-28T15:28:25.531189Z"
    }
   },
   "outputs": [
    {
     "data": {
      "text/plain": [
       "array([8, 0, 6, 6, 1, 8, 0, 8, 2, 1, 7, 0, 4, 4, 8, 2, 7, 2, 2, 1, 3, 1,\n",
       "       1, 4, 2, 3, 0, 8, 6, 3, 8, 7, 0, 7, 4, 2, 7, 3, 1, 7, 6, 6, 8, 4,\n",
       "       9, 8, 4, 6, 6, 8, 2, 3, 2, 5, 1, 8, 7, 4, 4, 4, 6, 6, 3, 4])"
      ]
     },
     "execution_count": 57,
     "metadata": {},
     "output_type": "execute_result"
    }
   ],
   "source": [
    "step_pred = model.forward(image)\n",
    "np.argmax(step_pred.detach().numpy(), axis=1)"
   ]
  },
  {
   "cell_type": "code",
   "execution_count": 58,
   "metadata": {
    "ExecuteTime": {
     "end_time": "2021-04-28T15:28:25.947734Z",
     "start_time": "2021-04-28T15:28:25.939847Z"
    }
   },
   "outputs": [
    {
     "data": {
      "text/plain": [
       "array([8, 0, 6, 2, 1, 8, 0, 8, 2, 1, 7, 0, 4, 4, 8, 2, 7, 4, 2, 1, 6, 1,\n",
       "       1, 4, 2, 3, 0, 8, 6, 3, 8, 7, 0, 7, 4, 2, 7, 3, 1, 7, 6, 6, 8, 4,\n",
       "       9, 8, 6, 3, 6, 8, 2, 3, 2, 5, 1, 8, 5, 4, 4, 4, 6, 6, 3, 4])"
      ]
     },
     "execution_count": 58,
     "metadata": {},
     "output_type": "execute_result"
    }
   ],
   "source": [
    "label.detach().numpy()"
   ]
  },
  {
   "cell_type": "code",
   "execution_count": 59,
   "metadata": {
    "ExecuteTime": {
     "end_time": "2021-04-28T15:28:26.991161Z",
     "start_time": "2021-04-28T15:28:26.820719Z"
    }
   },
   "outputs": [
    {
     "data": {
      "text/plain": [
       "<matplotlib.image.AxesImage at 0x7f9fe0b2bd50>"
      ]
     },
     "execution_count": 59,
     "metadata": {},
     "output_type": "execute_result"
    },
    {
     "data": {
      "image/png": "[encoded data removed]",
      "text/plain": [
       "<Figure size 432x288 with 1 Axes>"
      ]
     },
     "metadata": {
      "needs_background": "light"
     },
     "output_type": "display_data"
    }
   ],
   "source": [
    "pyplot.imshow(image[-3].reshape(28,28))"
   ]
  },
  {
   "cell_type": "code",
   "execution_count": 443,
   "metadata": {
    "ExecuteTime": {
     "end_time": "2021-04-28T19:24:42.436214Z",
     "start_time": "2021-04-28T19:24:42.429846Z"
    }
   },
   "outputs": [],
   "source": [
    "text = {\n",
    "0:'T-shirt/top',\n",
    "1:'Trouser',\n",
    "2:'Pullover',\n",
    "3:'Dress',\n",
    "4:'Coat',\n",
    "5:'Sandal',\n",
    "6:'Shirt',\n",
    "7:'Sneaker',\n",
    "8:'Bag',\n",
    "9:'Ankle boot'}"
   ]
  },
  {
   "cell_type": "code",
   "execution_count": 306,
   "metadata": {
    "ExecuteTime": {
     "end_time": "2021-04-28T18:30:07.320439Z",
     "start_time": "2021-04-28T18:30:07.304103Z"
    }
   },
   "outputs": [],
   "source": [
    "class SaveOutput:\n",
    "    def __init__(self):\n",
    "        self.output = []\n",
    "        self.images = []\n",
    "        self.is_print = False\n",
    "    def __call__(self, module, module_in, module_out):\n",
    "        self.output.append((module, module_in, module_out))\n",
    "#         print(len(self.output))\n",
    "    def reset(self):\n",
    "        self.output = []\n",
    "        self.image = []\n",
    "    def clear(self):\n",
    "        self.output = []\n",
    "    def push(self):\n",
    "        hidden1 = self.output[0][2].detach().numpy()\n",
    "        hidden2 = self.output[1][2].detach().numpy()\n",
    "        hidden3 = self.output[2][2].detach().numpy()\n",
    "        out1 = self.output[3][2].detach().numpy()\n",
    "        pred = self.output[4][2].detach().numpy()\n",
    "        for h1, h2, h3, o1, p in zip(hidden1, hidden2, hidden3, out1, pred):\n",
    "            self.images.append((h1, h2, h3, o1, p))\n",
    "        self.clear()"
   ]
  },
  {
   "cell_type": "code",
   "execution_count": 286,
   "metadata": {
    "ExecuteTime": {
     "end_time": "2021-04-28T17:40:12.618529Z",
     "start_time": "2021-04-28T17:40:12.611989Z"
    }
   },
   "outputs": [
    {
     "data": {
      "text/plain": [
       "FashionNetwork(\n",
       "  (hidden1): Linear(in_features=784, out_features=256, bias=True)\n",
       "  (hidden2): Linear(in_features=256, out_features=144, bias=True)\n",
       "  (hidden3): Linear(in_features=144, out_features=64, bias=True)\n",
       "  (output): Linear(in_features=64, out_features=10, bias=True)\n",
       ")"
      ]
     },
     "execution_count": 286,
     "metadata": {},
     "output_type": "execute_result"
    }
   ],
   "source": [
    "model.eval()"
   ]
  },
  {
   "cell_type": "code",
   "execution_count": 292,
   "metadata": {
    "ExecuteTime": {
     "end_time": "2021-04-28T17:40:37.361930Z",
     "start_time": "2021-04-28T17:40:37.356005Z"
    }
   },
   "outputs": [],
   "source": [
    "saveOutput = SaveOutput()\n",
    "hooks = []\n",
    "for name, module in model.named_modules():\n",
    "    hook = module.register_forward_hook(saveOutput)\n",
    "    hooks.append(hook)"
   ]
  },
  {
   "cell_type": "code",
   "execution_count": 291,
   "metadata": {
    "ExecuteTime": {
     "end_time": "2021-04-28T17:40:36.008784Z",
     "start_time": "2021-04-28T17:40:36.004254Z"
    }
   },
   "outputs": [],
   "source": [
    "for h in hooks:\n",
    "    h.remove()"
   ]
  },
  {
   "cell_type": "code",
   "execution_count": 293,
   "metadata": {
    "ExecuteTime": {
     "end_time": "2021-04-28T17:40:39.182701Z",
     "start_time": "2021-04-28T17:40:39.172808Z"
    }
   },
   "outputs": [
    {
     "data": {
      "text/plain": [
       "array([6, 9, 7, 7, 1, 2, 6, 3, 6, 3, 1, 4, 8, 5, 1, 5, 9, 4, 4, 0, 7, 6,\n",
       "       3, 8, 1, 5, 8, 6, 2, 8, 3, 3, 1, 6, 6, 5, 2, 4, 0, 1, 9, 0, 1, 4,\n",
       "       8, 9, 0, 3, 1, 1, 8, 5, 9, 9, 3, 4, 7, 3, 4, 9, 1, 0, 5, 7])"
      ]
     },
     "execution_count": 293,
     "metadata": {},
     "output_type": "execute_result"
    }
   ],
   "source": [
    "step_pred = model(image)\n",
    "np.argmax(step_pred.detach().numpy(), axis=1)"
   ]
  },
  {
   "cell_type": "code",
   "execution_count": 294,
   "metadata": {
    "ExecuteTime": {
     "end_time": "2021-04-28T17:40:40.242552Z",
     "start_time": "2021-04-28T17:40:40.237558Z"
    }
   },
   "outputs": [],
   "source": [
    "saveOutput.push()"
   ]
  },
  {
   "cell_type": "code",
   "execution_count": 297,
   "metadata": {
    "ExecuteTime": {
     "end_time": "2021-04-28T17:40:53.262333Z",
     "start_time": "2021-04-28T17:40:53.255557Z"
    }
   },
   "outputs": [
    {
     "data": {
      "text/plain": [
       "64"
      ]
     },
     "execution_count": 297,
     "metadata": {},
     "output_type": "execute_result"
    }
   ],
   "source": [
    "len(saveOutput.images)"
   ]
  },
  {
   "cell_type": "code",
   "execution_count": 185,
   "metadata": {
    "ExecuteTime": {
     "end_time": "2021-04-28T17:03:41.384934Z",
     "start_time": "2021-04-28T17:03:41.379979Z"
    }
   },
   "outputs": [],
   "source": [
    "for o in saveOutput.output:\n",
    "    print(o[2].shape)"
   ]
  },
  {
   "cell_type": "code",
   "execution_count": 186,
   "metadata": {
    "ExecuteTime": {
     "end_time": "2021-04-28T17:03:47.160583Z",
     "start_time": "2021-04-28T17:03:47.142706Z"
    }
   },
   "outputs": [],
   "source": [
    "def show_activations(i, image, saveOutput, idx, text, pred, label):\n",
    "    idxl = label.detach().numpy()[idx]\n",
    "#     print('Labeled as',text[idxl])\n",
    "#     print('Predicted as', text[np.argmax(pred[idx].detach().numpy())])\n",
    "    ix=0\n",
    "    plt.figure(figsize=(10,10))\n",
    "    plt.subplot(3, 3, ix+1)\n",
    "    ix+=1\n",
    "    plt.imshow(image[idx].reshape(28,28))\n",
    "    plt.subplot(3, 3, ix+1)\n",
    "    ix+=1\n",
    "    plt.imshow(saveOutput.output[0][2][idx].detach().numpy().reshape(16,16))\n",
    "    plt.subplot(3, 3, ix+1)\n",
    "    ix+=1\n",
    "    plt.imshow(saveOutput.output[1][2][idx].detach().numpy().reshape(12,12))\n",
    "    plt.subplot(3, 3, ix+1)\n",
    "    ix+=1\n",
    "    plt.imshow(saveOutput.output[2][2][idx].detach().numpy().reshape(8,8))\n",
    "    plt.subplot(3, 3, ix+1)\n",
    "    ix+=1\n",
    "    plt.imshow(saveOutput.output[4][2][idx].detach().numpy().reshape(1,10))\n",
    "    plt.savefig('./fashion_images/'+f'{i:06}'+'.jpg')\n",
    "    plt.close()"
   ]
  },
  {
   "cell_type": "code",
   "execution_count": 143,
   "metadata": {
    "ExecuteTime": {
     "end_time": "2021-04-28T15:55:34.840027Z",
     "start_time": "2021-04-28T15:55:34.834923Z"
    }
   },
   "outputs": [],
   "source": [
    "idxs = np.argsort(label)\n",
    "\n",
    "for i, idx in tqdm.notebook.tqdm(enumerate(idxs)):\n",
    "    show_activations(i, image, saveOutput, idx, text, pred, label)"
   ]
  },
  {
   "cell_type": "code",
   "execution_count": 156,
   "metadata": {
    "ExecuteTime": {
     "end_time": "2021-04-28T16:53:22.704154Z",
     "start_time": "2021-04-28T16:53:22.699944Z"
    }
   },
   "outputs": [],
   "source": [
    "from collections import Counter"
   ]
  },
  {
   "cell_type": "code",
   "execution_count": 158,
   "metadata": {
    "ExecuteTime": {
     "end_time": "2021-04-28T16:53:45.008142Z",
     "start_time": "2021-04-28T16:53:44.995092Z"
    }
   },
   "outputs": [
    {
     "data": {
      "text/plain": [
       "Counter({9: 1000,\n",
       "         2: 1000,\n",
       "         1: 1000,\n",
       "         6: 1000,\n",
       "         4: 1000,\n",
       "         5: 1000,\n",
       "         7: 1000,\n",
       "         3: 1000,\n",
       "         8: 1000,\n",
       "         0: 1000})"
      ]
     },
     "execution_count": 158,
     "metadata": {},
     "output_type": "execute_result"
    }
   ],
   "source": [
    "Counter(testset.targets.detach().numpy())"
   ]
  },
  {
   "cell_type": "code",
   "execution_count": null,
   "metadata": {},
   "outputs": [],
   "source": [
    "np.concatenate()"
   ]
  },
  {
   "cell_type": "code",
   "execution_count": null,
   "metadata": {},
   "outputs": [],
   "source": [
    "np.append()"
   ]
  },
  {
   "cell_type": "code",
   "execution_count": 379,
   "metadata": {
    "ExecuteTime": {
     "end_time": "2021-04-28T18:54:50.472837Z",
     "start_time": "2021-04-28T18:54:46.898337Z"
    }
   },
   "outputs": [
    {
     "data": {
      "application/vnd.jupyter.widget-view+json": {
       "model_id": "5f22580f066f4ed38e5e2418e0b9eebf",
       "version_major": 2,
       "version_minor": 0
      },
      "text/plain": [
       "HBox(children=(HTML(value=''), FloatProgress(value=0.0, max=157.0), HTML(value='')))"
      ]
     },
     "metadata": {},
     "output_type": "display_data"
    },
    {
     "name": "stdout",
     "output_type": "stream",
     "text": [
      "\n"
     ]
    }
   ],
   "source": [
    "labels = np.array([])\n",
    "preds = np.ndarray((0,10))\n",
    "images = np.ndarray((0,784))\n",
    "saveOutput.clear()\n",
    "saveOutput.images = []\n",
    "model.eval()\n",
    "\n",
    "for image, label in tqdm.notebook.tqdm(testloader):\n",
    "    image = image.view(image.shape[0],-1)\n",
    "    pred=model(image)\n",
    "    labels = np.concatenate((labels, label.detach().numpy()))\n",
    "    preds  = np.concatenate((preds,  pred.detach().numpy()))\n",
    "    images = np.concatenate((images,  image.detach().numpy()))\n",
    "    saveOutput.push()"
   ]
  },
  {
   "cell_type": "code",
   "execution_count": 380,
   "metadata": {
    "ExecuteTime": {
     "end_time": "2021-04-28T18:54:51.169595Z",
     "start_time": "2021-04-28T18:54:51.160661Z"
    }
   },
   "outputs": [
    {
     "data": {
      "text/plain": [
       "(10000, (10000,), (10000, 10), (10000, 784))"
      ]
     },
     "execution_count": 380,
     "metadata": {},
     "output_type": "execute_result"
    }
   ],
   "source": [
    "len(saveOutput.images), labels.shape, preds.shape, images.shape"
   ]
  },
  {
   "cell_type": "code",
   "execution_count": 278,
   "metadata": {
    "ExecuteTime": {
     "end_time": "2021-04-28T17:37:33.369322Z",
     "start_time": "2021-04-28T17:37:33.359139Z"
    }
   },
   "outputs": [],
   "source": [
    "hidden1 = saveOutput.output[0][2].detach().numpy()\n",
    "hidden2 = saveOutput.output[1][2].detach().numpy()\n",
    "hidden3 = saveOutput.output[2][2].detach().numpy()\n",
    "out1 = saveOutput.output[3][2].detach().numpy()\n",
    "pred = saveOutput.output[4][2].detach().numpy()\n",
    "\n",
    "for h1, h2, h3, o1, p in zip(hidden1, hidden2, hidden3, out1, pred):\n",
    "    print(h1, h2, h3, o1, p)\n",
    "    break"
   ]
  },
  {
   "cell_type": "code",
   "execution_count": 219,
   "metadata": {
    "ExecuteTime": {
     "end_time": "2021-04-28T17:16:56.692782Z",
     "start_time": "2021-04-28T17:16:56.685059Z"
    }
   },
   "outputs": [
    {
     "data": {
      "text/plain": [
       "array([8600, 5847, 2389, ..., 2116, 6095,    0])"
      ]
     },
     "execution_count": 219,
     "metadata": {},
     "output_type": "execute_result"
    }
   ],
   "source": [
    "np.argsort(labels)"
   ]
  },
  {
   "cell_type": "code",
   "execution_count": 447,
   "metadata": {
    "ExecuteTime": {
     "end_time": "2021-04-28T19:26:57.344740Z",
     "start_time": "2021-04-28T19:26:57.338004Z"
    }
   },
   "outputs": [
    {
     "data": {
      "text/plain": [
       "256"
      ]
     },
     "execution_count": 447,
     "metadata": {},
     "output_type": "execute_result"
    }
   ],
   "source": [
    "16*16"
   ]
  },
  {
   "cell_type": "code",
   "execution_count": 448,
   "metadata": {
    "ExecuteTime": {
     "end_time": "2021-04-28T19:27:39.539267Z",
     "start_time": "2021-04-28T19:27:39.531495Z"
    }
   },
   "outputs": [
    {
     "data": {
      "text/plain": [
       "FashionNetwork(\n",
       "  (hidden1): Linear(in_features=784, out_features=256, bias=True)\n",
       "  (hidden2): Linear(in_features=256, out_features=144, bias=True)\n",
       "  (hidden3): Linear(in_features=144, out_features=64, bias=True)\n",
       "  (output): Linear(in_features=64, out_features=10, bias=True)\n",
       ")"
      ]
     },
     "execution_count": 448,
     "metadata": {},
     "output_type": "execute_result"
    }
   ],
   "source": [
    "model"
   ]
  },
  {
   "cell_type": "code",
   "execution_count": 459,
   "metadata": {
    "ExecuteTime": {
     "end_time": "2021-04-28T20:17:59.675144Z",
     "start_time": "2021-04-28T20:17:59.661942Z"
    }
   },
   "outputs": [],
   "source": [
    "def show_activations(i, image, h1, h2, h3, o1, p, title):\n",
    "#     print('Labeled as',text[idxl])\n",
    "#     print('Predicted as', text[np.argmax(pred[idx].detach().numpy())])\n",
    "    ix=0\n",
    "    plt.title(title)\n",
    "    plt.figure(figsize=(10,10))\n",
    "    plt.subplot(2, 3, ix+1)\n",
    "    ix+=1\n",
    "    plt.title(title)\n",
    "    plt.imshow(image.reshape(28,28))\n",
    "    plt.subplot(2, 3, ix+1)\n",
    "    ix+=1\n",
    "    plt.title('Linear hidden #1 [256]')\n",
    "    plt.imshow(h1.reshape(16,16))\n",
    "    plt.subplot(2, 3, ix+1)\n",
    "    ix+=1\n",
    "    plt.title('Linear hidden #2 [144]')\n",
    "    plt.imshow(h2.reshape(12,12))\n",
    "    plt.subplot(2, 3, ix+1)\n",
    "    ix+=1\n",
    "    plt.title('Linear hidden #3 [64]')\n",
    "    plt.imshow(h3.reshape(8,8))\n",
    "    plt.subplot(2, 3, ix+1)\n",
    "    ix+=1\n",
    "    plt.title('Linear output [10]')\n",
    "    plt.imshow(o1.reshape(1,10))\n",
    "    plt.savefig('./fashion_images/'+f'{i:06}'+'.jpg')\n",
    "    plt.tight_layout()\n",
    "    plt.close()"
   ]
  },
  {
   "cell_type": "code",
   "execution_count": 460,
   "metadata": {
    "ExecuteTime": {
     "end_time": "2021-04-28T20:18:01.719743Z",
     "start_time": "2021-04-28T20:18:01.700654Z"
    }
   },
   "outputs": [
    {
     "name": "stderr",
     "output_type": "stream",
     "text": [
      "/home/shmalex/.conda/envs/py37/lib/python3.7/site-packages/ipykernel_launcher.py:1: VisibleDeprecationWarning: Creating an ndarray from ragged nested sequences (which is a list-or-tuple of lists-or-tuples-or ndarrays with different lengths or shapes) is deprecated. If you meant to do this, you must specify 'dtype=object' when creating the ndarray\n",
      "  \"\"\"Entry point for launching an IPython kernel.\n"
     ]
    }
   ],
   "source": [
    "images_arr = np.array(saveOutput.images)"
   ]
  },
  {
   "cell_type": "code",
   "execution_count": 463,
   "metadata": {
    "ExecuteTime": {
     "end_time": "2021-04-28T20:58:03.543735Z",
     "start_time": "2021-04-28T20:19:21.389082Z"
    }
   },
   "outputs": [
    {
     "data": {
      "application/vnd.jupyter.widget-view+json": {
       "model_id": "fd0e3c1e0a4a4230a549ea0ab465a97f",
       "version_major": 2,
       "version_minor": 0
      },
      "text/plain": [
       "HBox(children=(HTML(value=''), FloatProgress(value=0.0, max=10.0), HTML(value='')))"
      ]
     },
     "metadata": {},
     "output_type": "display_data"
    },
    {
     "name": "stdout",
     "output_type": "stream",
     "text": [
      "T-shirt/top\n"
     ]
    },
    {
     "data": {
      "application/vnd.jupyter.widget-view+json": {
       "model_id": "050e3144ca1446e5952119ebcbc52f7a",
       "version_major": 2,
       "version_minor": 0
      },
      "text/plain": [
       "HBox(children=(HTML(value=''), FloatProgress(value=0.0, max=500.0), HTML(value='')))"
      ]
     },
     "metadata": {},
     "output_type": "display_data"
    },
    {
     "name": "stdout",
     "output_type": "stream",
     "text": [
      "\n",
      "Trouser\n"
     ]
    },
    {
     "data": {
      "application/vnd.jupyter.widget-view+json": {
       "model_id": "c238867ab2e7440682ecde184881cfec",
       "version_major": 2,
       "version_minor": 0
      },
      "text/plain": [
       "HBox(children=(HTML(value=''), FloatProgress(value=0.0, max=500.0), HTML(value='')))"
      ]
     },
     "metadata": {},
     "output_type": "display_data"
    },
    {
     "name": "stdout",
     "output_type": "stream",
     "text": [
      "\n",
      "Pullover\n"
     ]
    },
    {
     "data": {
      "application/vnd.jupyter.widget-view+json": {
       "model_id": "285936c591e84639a671816cd7003e75",
       "version_major": 2,
       "version_minor": 0
      },
      "text/plain": [
       "HBox(children=(HTML(value=''), FloatProgress(value=0.0, max=500.0), HTML(value='')))"
      ]
     },
     "metadata": {},
     "output_type": "display_data"
    },
    {
     "name": "stdout",
     "output_type": "stream",
     "text": [
      "\n",
      "Dress\n"
     ]
    },
    {
     "data": {
      "application/vnd.jupyter.widget-view+json": {
       "model_id": "f461f4b7754048db901ac9cb3d8a3faa",
       "version_major": 2,
       "version_minor": 0
      },
      "text/plain": [
       "HBox(children=(HTML(value=''), FloatProgress(value=0.0, max=500.0), HTML(value='')))"
      ]
     },
     "metadata": {},
     "output_type": "display_data"
    },
    {
     "name": "stdout",
     "output_type": "stream",
     "text": [
      "\n",
      "Coat\n"
     ]
    },
    {
     "data": {
      "application/vnd.jupyter.widget-view+json": {
       "model_id": "d28f6466d2714e9baf789904dc50edcb",
       "version_major": 2,
       "version_minor": 0
      },
      "text/plain": [
       "HBox(children=(HTML(value=''), FloatProgress(value=0.0, max=500.0), HTML(value='')))"
      ]
     },
     "metadata": {},
     "output_type": "display_data"
    },
    {
     "name": "stdout",
     "output_type": "stream",
     "text": [
      "\n",
      "Sandal\n"
     ]
    },
    {
     "data": {
      "application/vnd.jupyter.widget-view+json": {
       "model_id": "7e788427caa94190927b49b06dfd0cb2",
       "version_major": 2,
       "version_minor": 0
      },
      "text/plain": [
       "HBox(children=(HTML(value=''), FloatProgress(value=0.0, max=500.0), HTML(value='')))"
      ]
     },
     "metadata": {},
     "output_type": "display_data"
    },
    {
     "name": "stdout",
     "output_type": "stream",
     "text": [
      "\n",
      "Shirt\n"
     ]
    },
    {
     "data": {
      "application/vnd.jupyter.widget-view+json": {
       "model_id": "03ea25ae428b438e8c2736f60bdd7622",
       "version_major": 2,
       "version_minor": 0
      },
      "text/plain": [
       "HBox(children=(HTML(value=''), FloatProgress(value=0.0, max=500.0), HTML(value='')))"
      ]
     },
     "metadata": {},
     "output_type": "display_data"
    },
    {
     "name": "stdout",
     "output_type": "stream",
     "text": [
      "\n",
      "Sneaker\n"
     ]
    },
    {
     "data": {
      "application/vnd.jupyter.widget-view+json": {
       "model_id": "6f6a527a02d04ad48227b98438bf693b",
       "version_major": 2,
       "version_minor": 0
      },
      "text/plain": [
       "HBox(children=(HTML(value=''), FloatProgress(value=0.0, max=500.0), HTML(value='')))"
      ]
     },
     "metadata": {},
     "output_type": "display_data"
    },
    {
     "name": "stdout",
     "output_type": "stream",
     "text": [
      "\n",
      "Bag\n"
     ]
    },
    {
     "data": {
      "application/vnd.jupyter.widget-view+json": {
       "model_id": "41e61e2b7c1d44918839a0316e058b86",
       "version_major": 2,
       "version_minor": 0
      },
      "text/plain": [
       "HBox(children=(HTML(value=''), FloatProgress(value=0.0, max=500.0), HTML(value='')))"
      ]
     },
     "metadata": {},
     "output_type": "display_data"
    },
    {
     "name": "stdout",
     "output_type": "stream",
     "text": [
      "\n",
      "Ankle boot\n"
     ]
    },
    {
     "data": {
      "application/vnd.jupyter.widget-view+json": {
       "model_id": "5d10612a00ea4892b5aec4b184f88ffe",
       "version_major": 2,
       "version_minor": 0
      },
      "text/plain": [
       "HBox(children=(HTML(value=''), FloatProgress(value=0.0, max=500.0), HTML(value='')))"
      ]
     },
     "metadata": {},
     "output_type": "display_data"
    },
    {
     "name": "stdout",
     "output_type": "stream",
     "text": [
      "\n",
      "\n"
     ]
    },
    {
     "data": {
      "image/png": "[encoded data removed]",
      "text/plain": [
       "<Figure size 432x288 with 1 Axes>"
      ]
     },
     "metadata": {
      "needs_background": "light"
     },
     "output_type": "display_data"
    }
   ],
   "source": [
    "limit = 500\n",
    "ii = 0\n",
    "for cls in tqdm.notebook.tqdm(range(10)):\n",
    "    print(text[cls])\n",
    "    iter_labels = labels==cls\n",
    "    pred_idxs = np.argsort(preds[iter_labels][::,cls])[::-1]\n",
    "    iter_images_data = images_arr[iter_labels][pred_idxs]\n",
    "    iter_images = images[iter_labels][pred_idxs]\n",
    "    iter_preds = preds[iter_labels][pred_idxs]\n",
    "    iter_labels = labels[iter_labels][pred_idxs]\n",
    "    for i, ((h1, h2, h3, o1, p), image, lbl) in \\\n",
    "        tqdm.notebook.tqdm(list(enumerate(zip(iter_images_data, iter_images, iter_labels)))\\\n",
    "                           [:limit]):\n",
    "        title = f'{text[lbl]}'\n",
    "        show_activations(ii, image, h1, h2, h3, o1, p, title)#, idx, pre, lab)\n",
    "        ii+=1"
   ]
  },
  {
   "cell_type": "code",
   "execution_count": 430,
   "metadata": {
    "ExecuteTime": {
     "end_time": "2021-04-28T19:14:29.622160Z",
     "start_time": "2021-04-28T19:14:29.615283Z"
    }
   },
   "outputs": [
    {
     "data": {
      "text/plain": [
       "(1000, 784)"
      ]
     },
     "execution_count": 430,
     "metadata": {},
     "output_type": "execute_result"
    }
   ],
   "source": [
    "iter_images.shape"
   ]
  },
  {
   "cell_type": "code",
   "execution_count": 431,
   "metadata": {
    "ExecuteTime": {
     "end_time": "2021-04-28T19:14:52.748817Z",
     "start_time": "2021-04-28T19:14:52.743625Z"
    }
   },
   "outputs": [],
   "source": [
    "q,w,e,r,t = iter_images_data[0]"
   ]
  },
  {
   "cell_type": "code",
   "execution_count": null,
   "metadata": {},
   "outputs": [],
   "source": []
  }
 ],
 "metadata": {
  "kernelspec": {
   "display_name": "rl",
   "language": "python",
   "name": "rl"
  },
  "language_info": {
   "codemirror_mode": {
    "name": "ipython",
    "version": 3
   },
   "file_extension": ".py",
   "mimetype": "text/x-python",
   "name": "python",
   "nbconvert_exporter": "python",
   "pygments_lexer": "ipython3",
   "version": "3.7.6"
  }
 },
 "nbformat": 4,
 "nbformat_minor": 4
}
