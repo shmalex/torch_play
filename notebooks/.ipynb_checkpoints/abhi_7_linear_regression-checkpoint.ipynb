{
 "cells": [
  {
   "cell_type": "markdown",
   "metadata": {
    "ExecuteTime": {
     "start_time": "2021-05-14T23:29:53.197Z"
    }
   },
   "source": [
    "This JN is base on Abhishek Thakur video\n",
    "https://www.youtube.com/watch?v=gB1KAhL6Hvw&list=PL98nY_tJQXZln8spB5uTZdKN08mYGkOf2&index=8"
   ]
  },
  {
   "cell_type": "code",
   "execution_count": 1,
   "metadata": {
    "ExecuteTime": {
     "end_time": "2021-05-15T02:05:40.043939Z",
     "start_time": "2021-05-15T02:05:38.990215Z"
    }
   },
   "outputs": [
    {
     "name": "stdout",
     "output_type": "stream",
     "text": [
      "1.8.1\n"
     ]
    }
   ],
   "source": [
    "import torch\n",
    "import tqdm\n",
    "print(torch.__version__)\n",
    "from sklearn.model_selection import train_test_split\n",
    "from sklearn.datasets import make_classification\n",
    "from sklearn import metrics"
   ]
  },
  {
   "cell_type": "code",
   "execution_count": 2,
   "metadata": {
    "ExecuteTime": {
     "end_time": "2021-05-15T02:05:40.050864Z",
     "start_time": "2021-05-15T02:05:40.046298Z"
    }
   },
   "outputs": [],
   "source": [
    "class CustomDataset:\n",
    "    def __init__(self, data, targets):\n",
    "        self.data = data\n",
    "        self.targets = targets\n",
    "    \n",
    "    def __len__(self):\n",
    "        return len(self.data)\n",
    "\n",
    "    def __getitem__(self, idx):\n",
    "        current_data = self.data[idx,:]\n",
    "        current_target = self.targets[idx]\n",
    "        return {\n",
    "            \"x\": torch.tensor(current_data, dtype=torch.float),\n",
    "            \"y\": torch.tensor(current_target, dtype=torch.float)\n",
    "        }"
   ]
  },
  {
   "cell_type": "code",
   "execution_count": 3,
   "metadata": {
    "ExecuteTime": {
     "end_time": "2021-05-15T02:05:40.063329Z",
     "start_time": "2021-05-15T02:05:40.053970Z"
    }
   },
   "outputs": [],
   "source": [
    "class_data, class_targets = make_classification(n_samples=1000)"
   ]
  },
  {
   "cell_type": "code",
   "execution_count": 4,
   "metadata": {
    "ExecuteTime": {
     "end_time": "2021-05-15T02:05:40.069016Z",
     "start_time": "2021-05-15T02:05:40.065778Z"
    }
   },
   "outputs": [],
   "source": [
    "#?train_test_split"
   ]
  },
  {
   "cell_type": "code",
   "execution_count": 5,
   "metadata": {
    "ExecuteTime": {
     "end_time": "2021-05-15T02:05:40.075371Z",
     "start_time": "2021-05-15T02:05:40.071644Z"
    }
   },
   "outputs": [],
   "source": [
    "# run experiment on what is stratificatoin"
   ]
  },
  {
   "cell_type": "code",
   "execution_count": 6,
   "metadata": {
    "ExecuteTime": {
     "end_time": "2021-05-15T02:05:40.083349Z",
     "start_time": "2021-05-15T02:05:40.077722Z"
    }
   },
   "outputs": [],
   "source": [
    "train_data, test_data, train_targets, test_targets = train_test_split(class_data, class_targets, stratify=class_targets)"
   ]
  },
  {
   "cell_type": "code",
   "execution_count": 7,
   "metadata": {
    "ExecuteTime": {
     "end_time": "2021-05-15T02:05:40.097784Z",
     "start_time": "2021-05-15T02:05:40.087081Z"
    }
   },
   "outputs": [
    {
     "data": {
      "text/plain": [
       "((750, 20), (250, 20))"
      ]
     },
     "execution_count": 7,
     "metadata": {},
     "output_type": "execute_result"
    }
   ],
   "source": [
    "train_data.shape,test_data.shape"
   ]
  },
  {
   "cell_type": "code",
   "execution_count": 8,
   "metadata": {
    "ExecuteTime": {
     "end_time": "2021-05-15T02:05:40.102926Z",
     "start_time": "2021-05-15T02:05:40.099948Z"
    }
   },
   "outputs": [],
   "source": [
    "train_dataset = CustomDataset(train_data, train_targets)\n",
    "test_dataset = CustomDataset(test_data, test_targets)"
   ]
  },
  {
   "cell_type": "code",
   "execution_count": 9,
   "metadata": {
    "ExecuteTime": {
     "end_time": "2021-05-15T02:05:40.108996Z",
     "start_time": "2021-05-15T02:05:40.104412Z"
    }
   },
   "outputs": [],
   "source": [
    "train_loader = torch.utils.data.DataLoader(train_dataset, batch_size=4)#, num_workers=2)\n",
    "test_loader = torch.utils.data.DataLoader(test_dataset, batch_size=4)#, num_workers=2)"
   ]
  },
  {
   "cell_type": "code",
   "execution_count": 10,
   "metadata": {
    "ExecuteTime": {
     "end_time": "2021-05-15T02:05:40.117161Z",
     "start_time": "2021-05-15T02:05:40.110476Z"
    }
   },
   "outputs": [
    {
     "data": {
      "text/plain": [
       "750"
      ]
     },
     "execution_count": 10,
     "metadata": {},
     "output_type": "execute_result"
    }
   ],
   "source": [
    "len(train_dataset)"
   ]
  },
  {
   "cell_type": "code",
   "execution_count": 11,
   "metadata": {
    "ExecuteTime": {
     "end_time": "2021-05-15T02:05:40.122437Z",
     "start_time": "2021-05-15T02:05:40.119009Z"
    }
   },
   "outputs": [],
   "source": [
    "model = lambda x, w, b: x @ w + b"
   ]
  },
  {
   "cell_type": "code",
   "execution_count": 12,
   "metadata": {
    "ExecuteTime": {
     "end_time": "2021-05-15T02:05:40.128781Z",
     "start_time": "2021-05-15T02:05:40.124358Z"
    }
   },
   "outputs": [],
   "source": [
    "W = torch.randn(train_data.shape[1], 1, requires_grad=True)\n",
    "b = torch.rand(1, requires_grad=True)"
   ]
  },
  {
   "cell_type": "code",
   "execution_count": 13,
   "metadata": {
    "ExecuteTime": {
     "end_time": "2021-05-15T02:05:40.146788Z",
     "start_time": "2021-05-15T02:05:40.130398Z"
    }
   },
   "outputs": [],
   "source": [
    "outputs = []\n",
    "labels = []\n",
    "with torch.no_grad():\n",
    "    for data in test_loader:\n",
    "        xtest = data['x']\n",
    "        ytest = data['y']\n",
    "        \n",
    "        output = model(xtest, W, b)\n",
    "        labels.append(ytest)\n",
    "        outputs.append(output)"
   ]
  },
  {
   "cell_type": "code",
   "execution_count": 14,
   "metadata": {
    "ExecuteTime": {
     "end_time": "2021-05-15T02:05:40.155381Z",
     "start_time": "2021-05-15T02:05:40.148609Z"
    }
   },
   "outputs": [
    {
     "data": {
      "text/plain": [
       "0.581605222734255"
      ]
     },
     "execution_count": 14,
     "metadata": {},
     "output_type": "execute_result"
    }
   ],
   "source": [
    "metrics.roc_auc_score(torch.cat(labels).view(-1),torch.cat(outputs).view(-1))"
   ]
  },
  {
   "cell_type": "code",
   "execution_count": 15,
   "metadata": {
    "ExecuteTime": {
     "end_time": "2021-05-15T02:05:40.159881Z",
     "start_time": "2021-05-15T02:05:40.157181Z"
    }
   },
   "outputs": [],
   "source": [
    "learning_rate = 0.001\n",
    "epochs = 30"
   ]
  },
  {
   "cell_type": "code",
   "execution_count": 16,
   "metadata": {
    "ExecuteTime": {
     "end_time": "2021-05-15T02:05:42.486561Z",
     "start_time": "2021-05-15T02:05:40.161562Z"
    }
   },
   "outputs": [
    {
     "data": {
      "application/vnd.jupyter.widget-view+json": {
       "model_id": "425d3622f8e2419eb8c08498dec2ce94",
       "version_major": 2,
       "version_minor": 0
      },
      "text/plain": [
       "  0%|          | 0/30 [00:00<?, ?it/s]"
      ]
     },
     "metadata": {},
     "output_type": "display_data"
    },
    {
     "name": "stdout",
     "output_type": "stream",
     "text": [
      "Epoch 0 loss 8.6071\n",
      "Epoch 1 loss 3.9088\n",
      "Epoch 2 loss 1.9459\n",
      "Epoch 3 loss 1.0228\n",
      "Epoch 4 loss 0.5692\n",
      "Epoch 5 loss 0.3418\n",
      "Epoch 6 loss 0.2264\n",
      "Epoch 7 loss 0.1672\n",
      "Epoch 8 loss 0.1366\n",
      "Epoch 9 loss 0.1207\n",
      "Epoch 10 loss 0.1123\n",
      "Epoch 11 loss 0.1079\n",
      "Epoch 12 loss 0.1055\n",
      "Epoch 13 loss 0.1043\n",
      "Epoch 14 loss 0.1036\n",
      "Epoch 15 loss 0.1032\n",
      "Epoch 16 loss 0.1030\n",
      "Epoch 17 loss 0.1029\n",
      "Epoch 18 loss 0.1029\n",
      "Epoch 19 loss 0.1028\n",
      "Epoch 20 loss 0.1028\n",
      "Epoch 21 loss 0.1028\n",
      "Epoch 22 loss 0.1028\n",
      "Epoch 23 loss 0.1028\n",
      "Epoch 24 loss 0.1028\n",
      "Epoch 25 loss 0.1028\n",
      "Epoch 26 loss 0.1028\n",
      "Epoch 27 loss 0.1028\n",
      "Epoch 28 loss 0.1028\n",
      "Epoch 29 loss 0.1028\n"
     ]
    }
   ],
   "source": [
    "for epoch in tqdm.notebook.tqdm(range(epochs)):\n",
    "    epoch_loss = 0\n",
    "    counter = 0\n",
    "    for data in train_loader:\n",
    "        # get data\n",
    "        xtrain = data['x']\n",
    "        ytrain = data['y']\n",
    "        \n",
    "        # print(W.grad)\n",
    "        if W.grad is not None:\n",
    "            W.grad_zero_()\n",
    "        # calculate the output\n",
    "        output = model(xtrain, W, b)\n",
    "        loss = torch.mean((ytrain.view(-1) - output.view(-1))**2)\n",
    "        epoch_loss = epoch_loss + loss.item()\n",
    "        loss.backward()\n",
    "\n",
    "        # print(W.grad.view(-1))\n",
    "        with torch.no_grad():\n",
    "            W = W - learning_rate * W.grad.data\n",
    "            b = b - learning_rate * b.grad.data\n",
    "        W.requires_grad_(True)\n",
    "        b.requires_grad_(True)\n",
    "        \n",
    "        # the gradients are reset to zero by torch\n",
    "        counter += 1\n",
    "    print(f'Epoch {epoch} loss {epoch_loss/counter:.4f}')"
   ]
  },
  {
   "cell_type": "markdown",
   "metadata": {},
   "source": [
    "Since the data is binary we can calculate the metric **AURC**"
   ]
  },
  {
   "cell_type": "code",
   "execution_count": 17,
   "metadata": {
    "ExecuteTime": {
     "end_time": "2021-05-15T02:05:42.510101Z",
     "start_time": "2021-05-15T02:05:42.488105Z"
    }
   },
   "outputs": [],
   "source": [
    "outputs = []\n",
    "labels = []\n",
    "with torch.no_grad():\n",
    "    for data in test_loader:\n",
    "        xtest = data['x']\n",
    "        ytest = data['y']\n",
    "        \n",
    "        output = model(xtest, W, b)\n",
    "        labels.append(ytest)\n",
    "        outputs.append(output)"
   ]
  },
  {
   "cell_type": "code",
   "execution_count": 18,
   "metadata": {
    "ExecuteTime": {
     "end_time": "2021-05-15T02:05:42.518142Z",
     "start_time": "2021-05-15T02:05:42.511958Z"
    }
   },
   "outputs": [
    {
     "data": {
      "text/plain": [
       "0.9438044034818228"
      ]
     },
     "execution_count": 18,
     "metadata": {},
     "output_type": "execute_result"
    }
   ],
   "source": [
    "metrics.roc_auc_score(torch.cat(labels).view(-1),torch.cat(outputs).view(-1))"
   ]
  },
  {
   "cell_type": "code",
   "execution_count": 19,
   "metadata": {
    "ExecuteTime": {
     "end_time": "2021-05-15T02:05:42.523712Z",
     "start_time": "2021-05-15T02:05:42.519653Z"
    }
   },
   "outputs": [],
   "source": [
    "class LinearRegression(torch.nn.Module):\n",
    "    def __init__(self, in_features, out_features):\n",
    "        super(LinearRegression, self).__init__()\n",
    "        self.linear = torch.nn.Linear(in_features=in_features, out_features=out_features, bias=True)\n",
    "    def forward(self, x):\n",
    "        y_pred = self.linear(x)\n",
    "        return y_pred"
   ]
  },
  {
   "cell_type": "code",
   "execution_count": 20,
   "metadata": {
    "ExecuteTime": {
     "end_time": "2021-05-15T02:05:42.530598Z",
     "start_time": "2021-05-15T02:05:42.525297Z"
    }
   },
   "outputs": [
    {
     "data": {
      "text/plain": [
       "(1000,)"
      ]
     },
     "execution_count": 20,
     "metadata": {},
     "output_type": "execute_result"
    }
   ],
   "source": [
    "class_targets.shape"
   ]
  },
  {
   "cell_type": "code",
   "execution_count": 21,
   "metadata": {
    "ExecuteTime": {
     "end_time": "2021-05-15T02:05:42.536842Z",
     "start_time": "2021-05-15T02:05:42.532321Z"
    }
   },
   "outputs": [],
   "source": [
    "model = LinearRegression(class_data.shape[1], 1)"
   ]
  },
  {
   "cell_type": "code",
   "execution_count": 22,
   "metadata": {
    "ExecuteTime": {
     "end_time": "2021-05-15T02:05:42.545098Z",
     "start_time": "2021-05-15T02:05:42.540952Z"
    }
   },
   "outputs": [],
   "source": [
    "learning_rate = 0.001\n",
    "criterion = torch.nn.MSELoss()\n",
    "optimizer = torch.optim.SGD(model.parameters(), lr = learning_rate)"
   ]
  },
  {
   "cell_type": "code",
   "execution_count": 23,
   "metadata": {
    "ExecuteTime": {
     "end_time": "2021-05-15T02:05:45.175701Z",
     "start_time": "2021-05-15T02:05:42.547311Z"
    }
   },
   "outputs": [
    {
     "data": {
      "application/vnd.jupyter.widget-view+json": {
       "model_id": "a691f114227d4c5ca7066adefea9529f",
       "version_major": 2,
       "version_minor": 0
      },
      "text/plain": [
       "  0%|          | 0/30 [00:00<?, ?it/s]"
      ]
     },
     "metadata": {},
     "output_type": "display_data"
    },
    {
     "name": "stderr",
     "output_type": "stream",
     "text": [
      "/home/shmalex/anaconda3/envs/pt/lib/python3.7/site-packages/torch/nn/modules/loss.py:528: UserWarning: Using a target size (torch.Size([4, 1])) that is different to the input size (torch.Size([4])). This will likely lead to incorrect results due to broadcasting. Please ensure they have the same size.\n",
      "  return F.mse_loss(input, target, reduction=self.reduction)\n",
      "/home/shmalex/anaconda3/envs/pt/lib/python3.7/site-packages/torch/nn/modules/loss.py:528: UserWarning: Using a target size (torch.Size([2, 1])) that is different to the input size (torch.Size([2])). This will likely lead to incorrect results due to broadcasting. Please ensure they have the same size.\n",
      "  return F.mse_loss(input, target, reduction=self.reduction)\n"
     ]
    },
    {
     "name": "stdout",
     "output_type": "stream",
     "text": [
      "Epoch 0 loss 0.0003\n",
      "Epoch 1 loss 0.0004\n",
      "Epoch 2 loss 0.0006\n",
      "Epoch 3 loss 0.0007\n",
      "Epoch 4 loss 0.0008\n",
      "Epoch 5 loss 0.0009\n",
      "Epoch 6 loss 0.0009\n",
      "Epoch 7 loss 0.0010\n",
      "Epoch 8 loss 0.0010\n",
      "Epoch 9 loss 0.0010\n",
      "Epoch 10 loss 0.0011\n",
      "Epoch 11 loss 0.0011\n",
      "Epoch 12 loss 0.0011\n",
      "Epoch 13 loss 0.0011\n",
      "Epoch 14 loss 0.0011\n",
      "Epoch 15 loss 0.0011\n",
      "Epoch 16 loss 0.0011\n",
      "Epoch 17 loss 0.0011\n",
      "Epoch 18 loss 0.0011\n",
      "Epoch 19 loss 0.0011\n",
      "Epoch 20 loss 0.0011\n",
      "Epoch 21 loss 0.0011\n",
      "Epoch 22 loss 0.0011\n",
      "Epoch 23 loss 0.0011\n",
      "Epoch 24 loss 0.0011\n",
      "Epoch 25 loss 0.0011\n",
      "Epoch 26 loss 0.0011\n",
      "Epoch 27 loss 0.0011\n",
      "Epoch 28 loss 0.0011\n",
      "Epoch 29 loss 0.0011\n"
     ]
    }
   ],
   "source": [
    "for epoch in tqdm.notebook.tqdm(range(epochs)):\n",
    "    epoch_loss = 0\n",
    "    counter = 0\n",
    "    for data in train_loader:\n",
    "        xtrain = data['x']\n",
    "        ytrain = data['y']\n",
    "        # clear gradient buffer to prevent gradients carriout from prev epoches\n",
    "        optimizer.zero_grad()\n",
    "        \n",
    "        # predict on train data\n",
    "        y_pred = model(xtrain)\n",
    "        loss = criterion(ytrain,y_pred)\n",
    "        loss.backward()\n",
    "        optimizer.step()\n",
    "        epoch_loss += loss.item()\n",
    "        counter +=1\n",
    "    print(f'Epoch {epoch} loss {loss/counter:.4f}')"
   ]
  },
  {
   "cell_type": "code",
   "execution_count": 24,
   "metadata": {
    "ExecuteTime": {
     "end_time": "2021-05-15T02:06:09.540245Z",
     "start_time": "2021-05-15T02:06:09.514479Z"
    }
   },
   "outputs": [],
   "source": [
    "outputs = []\n",
    "labels = []\n",
    "with torch.no_grad():\n",
    "    for data in test_loader:\n",
    "        xtest = data['x']\n",
    "        ytest = data['y']\n",
    "        \n",
    "        output = model(xtest)\n",
    "        labels.append(ytest)\n",
    "        outputs.append(output)"
   ]
  },
  {
   "cell_type": "code",
   "execution_count": 25,
   "metadata": {
    "ExecuteTime": {
     "end_time": "2021-05-15T02:06:18.361993Z",
     "start_time": "2021-05-15T02:06:18.350227Z"
    }
   },
   "outputs": [
    {
     "data": {
      "text/plain": [
       "0.9203149001536098"
      ]
     },
     "execution_count": 25,
     "metadata": {},
     "output_type": "execute_result"
    }
   ],
   "source": [
    "metrics.roc_auc_score(torch.cat(labels).view(-1),torch.cat(outputs).view(-1))"
   ]
  },
  {
   "cell_type": "code",
   "execution_count": null,
   "metadata": {},
   "outputs": [],
   "source": []
  }
 ],
 "metadata": {
  "kernelspec": {
   "display_name": "pt",
   "language": "python",
   "name": "pt"
  },
  "language_info": {
   "codemirror_mode": {
    "name": "ipython",
    "version": 3
   },
   "file_extension": ".py",
   "mimetype": "text/x-python",
   "name": "python",
   "nbconvert_exporter": "python",
   "pygments_lexer": "ipython3",
   "version": "3.7.9"
  }
 },
 "nbformat": 4,
 "nbformat_minor": 4
}
