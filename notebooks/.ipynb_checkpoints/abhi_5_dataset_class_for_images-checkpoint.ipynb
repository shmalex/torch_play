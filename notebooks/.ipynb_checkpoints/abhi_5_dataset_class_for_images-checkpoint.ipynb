{
 "cells": [
  {
   "cell_type": "code",
   "execution_count": 5,
   "metadata": {
    "ExecuteTime": {
     "end_time": "2021-05-14T22:51:09.540641Z",
     "start_time": "2021-05-14T22:51:09.534367Z"
    }
   },
   "outputs": [
    {
     "data": {
      "text/plain": [
       "'1.8.1'"
      ]
     },
     "execution_count": 5,
     "metadata": {},
     "output_type": "execute_result"
    }
   ],
   "source": [
    "import torch\n",
    "import numpy as np\n",
    "torch.__version__"
   ]
  },
  {
   "cell_type": "code",
   "execution_count": null,
   "metadata": {},
   "outputs": [],
   "source": [
    "import cv2"
   ]
  },
  {
   "cell_type": "markdown",
   "metadata": {},
   "source": [
    "Image classification vission problem\n",
    "Targets could be any type :\n",
    "- classification\n",
    "- regression\n",
    "- multilable classification\n",
    "- multiclass classification\n",
    "- question and answering\n",
    "- summarizatoin\n",
    "- seq-to-seq\n",
    "- entity recognition\n",
    "\n",
    "Details of implementetions:\n",
    "1. Dataset class should tead images one by one from path\n",
    "1. the channels should be 1st index in retun item function\n",
    "1. if image is gray scale add one channel \n",
    "    `tensor.unsqueeze(0)`\n",
    "1. for segmentation broblems - read **mask** image\n",
    "1. always use augmentations"
   ]
  },
  {
   "cell_type": "code",
   "execution_count": 33,
   "metadata": {
    "ExecuteTime": {
     "end_time": "2021-05-14T23:08:57.283208Z",
     "start_time": "2021-05-14T23:08:57.273203Z"
    }
   },
   "outputs": [],
   "source": [
    "class CustorDataset:\n",
    "    def __init__(self, image_paths, targets, augmentations=None):\n",
    "        self.image_paths = image_paths\n",
    "        self.targets = targets\n",
    "        self.augmentations = augmentations\n",
    "        pass\n",
    "\n",
    "    def __len__(self):\n",
    "        return len(self.image_paths)\n",
    "    \n",
    "    def __getitem(self, idx):\n",
    "        terget = self.targets[idx]\n",
    "        image = cv2.imread(self.image_paths[idx])\n",
    "        image = cv2.cvtColor(image, cv2.COLOR_BRG2RGB)\n",
    "        # read the mask image if you have one\n",
    "        if not self.autmentations is None:\n",
    "            augmented = self.augmentation(image, mask=self.mask)\n",
    "            image = augmented['image']\n",
    "        # if image is grayscale call unsqueeze to add new channel\n",
    "        # torch.unsqueeze(image, 0)\n",
    "        \n",
    "        # 1st index should be channels\n",
    "        image = np.transpose(image, (2, 0, 1)).astype(np.float32)\n",
    "        return {\n",
    "            \"image\": torch.tensor(image),\n",
    "            \"target\": torch.tensor(target)\n",
    "        }"
   ]
  },
  {
   "cell_type": "markdown",
   "metadata": {
    "ExecuteTime": {
     "end_time": "2021-05-14T23:07:58.173124Z",
     "start_time": "2021-05-14T23:07:58.168070Z"
    }
   },
   "source": [
    "The `unsqueeze` will add new index above the existing one"
   ]
  },
  {
   "cell_type": "code",
   "execution_count": 35,
   "metadata": {
    "ExecuteTime": {
     "end_time": "2021-05-14T23:09:04.360213Z",
     "start_time": "2021-05-14T23:09:04.352775Z"
    }
   },
   "outputs": [
    {
     "data": {
      "text/plain": [
       "tensor([[[0, 1],\n",
       "         [2, 3]]])"
      ]
     },
     "execution_count": 35,
     "metadata": {},
     "output_type": "execute_result"
    }
   ],
   "source": [
    "torch.unsqueeze(torch.tensor([[0,1],[2,3]]),0)"
   ]
  },
  {
   "cell_type": "code",
   "execution_count": 36,
   "metadata": {
    "ExecuteTime": {
     "end_time": "2021-05-14T23:09:11.119929Z",
     "start_time": "2021-05-14T23:09:11.112884Z"
    }
   },
   "outputs": [
    {
     "data": {
      "text/plain": [
       "tensor([[[0, 1]],\n",
       "\n",
       "        [[2, 3]]])"
      ]
     },
     "execution_count": 36,
     "metadata": {},
     "output_type": "execute_result"
    }
   ],
   "source": [
    "torch.unsqueeze(torch.tensor([[0,1],[2,3]]),1)"
   ]
  },
  {
   "cell_type": "markdown",
   "metadata": {},
   "source": [
    "The code below helps to understand the np.transpose function"
   ]
  },
  {
   "cell_type": "code",
   "execution_count": null,
   "metadata": {},
   "outputs": [],
   "source": []
  },
  {
   "cell_type": "code",
   "execution_count": 22,
   "metadata": {
    "ExecuteTime": {
     "end_time": "2021-05-14T23:02:08.143128Z",
     "start_time": "2021-05-14T23:02:08.133341Z"
    }
   },
   "outputs": [
    {
     "data": {
      "text/plain": [
       "(array([[[  1,   2,   3,  -3],\n",
       "         [  4,   5,   6,  -6]],\n",
       " \n",
       "        [[  7,   8,   9,  -9],\n",
       "         [ 10,  11,  12, -12]]]),\n",
       " array([[[  1,   4],\n",
       "         [  7,  10]],\n",
       " \n",
       "        [[  2,   5],\n",
       "         [  8,  11]],\n",
       " \n",
       "        [[  3,   6],\n",
       "         [  9,  12]],\n",
       " \n",
       "        [[ -3,  -6],\n",
       "         [ -9, -12]]]))"
      ]
     },
     "execution_count": 22,
     "metadata": {},
     "output_type": "execute_result"
    }
   ],
   "source": [
    "a = np.array([[[1,2,3,-3],[4,5,6,-6]],[[7,8,9,-9],[10,11,12,-12]]])\n",
    "a, np.transpose(a, (2,0,1))"
   ]
  },
  {
   "cell_type": "code",
   "execution_count": 23,
   "metadata": {
    "ExecuteTime": {
     "end_time": "2021-05-14T23:02:08.952784Z",
     "start_time": "2021-05-14T23:02:08.947106Z"
    }
   },
   "outputs": [
    {
     "data": {
      "text/plain": [
       "array([[  8,  10,  12, -12],\n",
       "       [ 14,  16,  18, -18]])"
      ]
     },
     "execution_count": 23,
     "metadata": {},
     "output_type": "execute_result"
    }
   ],
   "source": [
    "np.sum(a, axis=0)"
   ]
  },
  {
   "cell_type": "code",
   "execution_count": 24,
   "metadata": {
    "ExecuteTime": {
     "end_time": "2021-05-14T23:02:09.552895Z",
     "start_time": "2021-05-14T23:02:09.546920Z"
    }
   },
   "outputs": [
    {
     "data": {
      "text/plain": [
       "array([[  5,   7,   9,  -9],\n",
       "       [ 17,  19,  21, -21]])"
      ]
     },
     "execution_count": 24,
     "metadata": {},
     "output_type": "execute_result"
    }
   ],
   "source": [
    "np.sum(a, axis=1)"
   ]
  },
  {
   "cell_type": "code",
   "execution_count": 25,
   "metadata": {
    "ExecuteTime": {
     "end_time": "2021-05-14T23:02:10.209748Z",
     "start_time": "2021-05-14T23:02:10.203129Z"
    }
   },
   "outputs": [
    {
     "data": {
      "text/plain": [
       "array([[ 3,  9],\n",
       "       [15, 21]])"
      ]
     },
     "execution_count": 25,
     "metadata": {},
     "output_type": "execute_result"
    }
   ],
   "source": [
    "np.sum(a, axis=2)"
   ]
  },
  {
   "cell_type": "code",
   "execution_count": null,
   "metadata": {},
   "outputs": [],
   "source": []
  }
 ],
 "metadata": {
  "kernelspec": {
   "display_name": "pt",
   "language": "python",
   "name": "pt"
  },
  "language_info": {
   "codemirror_mode": {
    "name": "ipython",
    "version": 3
   },
   "file_extension": ".py",
   "mimetype": "text/x-python",
   "name": "python",
   "nbconvert_exporter": "python",
   "pygments_lexer": "ipython3",
   "version": "3.7.9"
  }
 },
 "nbformat": 4,
 "nbformat_minor": 4
}
