{
 "cells": [
  {
   "cell_type": "code",
   "execution_count": 1,
   "metadata": {
    "ExecuteTime": {
     "end_time": "2021-05-14T22:14:50.945118Z",
     "start_time": "2021-05-14T22:14:49.787021Z"
    }
   },
   "outputs": [],
   "source": [
    "import torch\n",
    "import numpy as np"
   ]
  },
  {
   "cell_type": "code",
   "execution_count": 2,
   "metadata": {
    "ExecuteTime": {
     "end_time": "2021-05-14T22:14:50.959145Z",
     "start_time": "2021-05-14T22:14:50.947499Z"
    }
   },
   "outputs": [
    {
     "data": {
      "text/plain": [
       "'1.8.1'"
      ]
     },
     "execution_count": 2,
     "metadata": {},
     "output_type": "execute_result"
    }
   ],
   "source": [
    "torch.__version__"
   ]
  },
  {
   "cell_type": "code",
   "execution_count": 3,
   "metadata": {
    "ExecuteTime": {
     "end_time": "2021-05-14T22:14:51.829959Z",
     "start_time": "2021-05-14T22:14:51.762983Z"
    }
   },
   "outputs": [
    {
     "data": {
      "text/plain": [
       "True"
      ]
     },
     "execution_count": 3,
     "metadata": {},
     "output_type": "execute_result"
    }
   ],
   "source": [
    "torch.cuda.is_available()"
   ]
  },
  {
   "cell_type": "code",
   "execution_count": 4,
   "metadata": {
    "ExecuteTime": {
     "end_time": "2021-05-14T22:14:52.486199Z",
     "start_time": "2021-05-14T22:14:52.331193Z"
    }
   },
   "outputs": [
    {
     "name": "stdout",
     "output_type": "stream",
     "text": [
      "Fri May 14 18:14:52 2021       \r\n",
      "+-----------------------------------------------------------------------------+\r\n",
      "| NVIDIA-SMI 460.73.01    Driver Version: 460.73.01    CUDA Version: 11.2     |\r\n",
      "|-------------------------------+----------------------+----------------------+\r\n",
      "| GPU  Name        Persistence-M| Bus-Id        Disp.A | Volatile Uncorr. ECC |\r\n",
      "| Fan  Temp  Perf  Pwr:Usage/Cap|         Memory-Usage | GPU-Util  Compute M. |\r\n",
      "|                               |                      |               MIG M. |\r\n",
      "|===============================+======================+======================|\r\n",
      "|   0  GeForce RTX 208...  Off  | 00000000:03:00.0  On |                  N/A |\r\n",
      "|  0%   31C    P8    35W / 300W |    764MiB / 11018MiB |     23%      Default |\r\n",
      "|                               |                      |                  N/A |\r\n",
      "+-------------------------------+----------------------+----------------------+\r\n",
      "                                                                               \r\n",
      "+-----------------------------------------------------------------------------+\r\n",
      "| Processes:                                                                  |\r\n",
      "|  GPU   GI   CI        PID   Type   Process name                  GPU Memory |\r\n",
      "|        ID   ID                                                   Usage      |\r\n",
      "|=============================================================================|\r\n",
      "|    0   N/A  N/A      2004      G   /usr/lib/xorg/Xorg                 18MiB |\r\n",
      "|    0   N/A  N/A      2044      G   /usr/bin/gnome-shell               52MiB |\r\n",
      "|    0   N/A  N/A      2529      G   /usr/lib/xorg/Xorg                299MiB |\r\n",
      "|    0   N/A  N/A      2665      G   /usr/bin/gnome-shell              146MiB |\r\n",
      "|    0   N/A  N/A      2673      G   ...mviewer/tv_bin/TeamViewer        2MiB |\r\n",
      "|    0   N/A  N/A      3134      G   ...AAAAAAAA== --shared-files       25MiB |\r\n",
      "|    0   N/A  N/A      3386      G   ...AAAAAAAA== --shared-files       25MiB |\r\n",
      "|    0   N/A  N/A      3555      G   ...AAAAAAAAA= --shared-files      184MiB |\r\n",
      "+-----------------------------------------------------------------------------+\r\n"
     ]
    }
   ],
   "source": [
    "!nvidia-smi"
   ]
  },
  {
   "cell_type": "code",
   "execution_count": 5,
   "metadata": {
    "ExecuteTime": {
     "end_time": "2021-05-14T22:14:54.345394Z",
     "start_time": "2021-05-14T22:14:54.340158Z"
    }
   },
   "outputs": [],
   "source": [
    "some_data = [[1,2,3],[5,6,7]]"
   ]
  },
  {
   "cell_type": "code",
   "execution_count": 6,
   "metadata": {
    "ExecuteTime": {
     "end_time": "2021-05-14T22:14:54.733288Z",
     "start_time": "2021-05-14T22:14:54.722611Z"
    }
   },
   "outputs": [
    {
     "data": {
      "text/plain": [
       "array([[ True,  True,  True],\n",
       "       [ True,  True,  True]])"
      ]
     },
     "execution_count": 6,
     "metadata": {},
     "output_type": "execute_result"
    }
   ],
   "source": [
    "np.array(some_data)==np.asarray(some_data)"
   ]
  },
  {
   "cell_type": "code",
   "execution_count": 7,
   "metadata": {
    "ExecuteTime": {
     "end_time": "2021-05-14T22:14:55.335443Z",
     "start_time": "2021-05-14T22:14:55.331030Z"
    }
   },
   "outputs": [],
   "source": [
    "some_data = np.array(some_data)"
   ]
  },
  {
   "cell_type": "code",
   "execution_count": 8,
   "metadata": {
    "ExecuteTime": {
     "end_time": "2021-05-14T22:14:55.810079Z",
     "start_time": "2021-05-14T22:14:55.802810Z"
    }
   },
   "outputs": [
    {
     "data": {
      "text/plain": [
       "dtype('int64')"
      ]
     },
     "execution_count": 8,
     "metadata": {},
     "output_type": "execute_result"
    }
   ],
   "source": [
    "some_data.dtype"
   ]
  },
  {
   "cell_type": "code",
   "execution_count": 9,
   "metadata": {
    "ExecuteTime": {
     "end_time": "2021-05-14T22:14:56.410605Z",
     "start_time": "2021-05-14T22:14:56.395445Z"
    }
   },
   "outputs": [],
   "source": [
    "sd = torch.tensor(some_data)"
   ]
  },
  {
   "cell_type": "code",
   "execution_count": 10,
   "metadata": {
    "ExecuteTime": {
     "end_time": "2021-05-14T22:14:56.977996Z",
     "start_time": "2021-05-14T22:14:56.971133Z"
    }
   },
   "outputs": [
    {
     "data": {
      "text/plain": [
       "torch.int64"
      ]
     },
     "execution_count": 10,
     "metadata": {},
     "output_type": "execute_result"
    }
   ],
   "source": [
    "sd.dtype"
   ]
  },
  {
   "cell_type": "code",
   "execution_count": 11,
   "metadata": {
    "ExecuteTime": {
     "end_time": "2021-05-14T22:14:57.222085Z",
     "start_time": "2021-05-14T22:14:57.210309Z"
    }
   },
   "outputs": [
    {
     "data": {
      "text/plain": [
       "array([[0.13162304, 0.20081296, 0.04979464, 0.35454584],\n",
       "       [0.88155749, 0.00569282, 0.91820593, 0.13453379],\n",
       "       [0.06701751, 0.78107064, 0.13339584, 0.80825352]])"
      ]
     },
     "execution_count": 11,
     "metadata": {},
     "output_type": "execute_result"
    }
   ],
   "source": [
    "np_arr = np.random.rand(3,4)\n",
    "np_arr"
   ]
  },
  {
   "cell_type": "code",
   "execution_count": 12,
   "metadata": {
    "ExecuteTime": {
     "end_time": "2021-05-14T22:14:57.439304Z",
     "start_time": "2021-05-14T22:14:57.417214Z"
    }
   },
   "outputs": [
    {
     "data": {
      "text/plain": [
       "tensor([[0.1316, 0.2008, 0.0498, 0.3545],\n",
       "        [0.8816, 0.0057, 0.9182, 0.1345],\n",
       "        [0.0670, 0.7811, 0.1334, 0.8083]], dtype=torch.float64)"
      ]
     },
     "execution_count": 12,
     "metadata": {},
     "output_type": "execute_result"
    }
   ],
   "source": [
    "t_arr = torch.from_numpy(np_arr)\n",
    "t_arr"
   ]
  },
  {
   "cell_type": "code",
   "execution_count": 13,
   "metadata": {
    "ExecuteTime": {
     "end_time": "2021-05-14T22:14:57.749467Z",
     "start_time": "2021-05-14T22:14:57.737573Z"
    }
   },
   "outputs": [
    {
     "data": {
      "text/plain": [
       "(tensor([[0.1684, 0.8456, 0.8633, 0.0678],\n",
       "         [0.1768, 0.1670, 0.5966, 0.7353],\n",
       "         [0.5791, 0.7829, 0.7082, 0.1005]]),\n",
       " torch.float32)"
      ]
     },
     "execution_count": 13,
     "metadata": {},
     "output_type": "execute_result"
    }
   ],
   "source": [
    "my_tensor = torch.rand(3,4)\n",
    "my_tensor, my_tensor.dtype"
   ]
  },
  {
   "cell_type": "code",
   "execution_count": 14,
   "metadata": {
    "ExecuteTime": {
     "end_time": "2021-05-14T22:14:58.048510Z",
     "start_time": "2021-05-14T22:14:58.042161Z"
    }
   },
   "outputs": [
    {
     "data": {
      "text/plain": [
       "device(type='cpu')"
      ]
     },
     "execution_count": 14,
     "metadata": {},
     "output_type": "execute_result"
    }
   ],
   "source": [
    "my_tensor.device"
   ]
  },
  {
   "cell_type": "markdown",
   "metadata": {},
   "source": [
    "move tensor to GPU. this is not inplace operation"
   ]
  },
  {
   "cell_type": "code",
   "execution_count": 15,
   "metadata": {
    "ExecuteTime": {
     "end_time": "2021-05-14T22:15:02.551196Z",
     "start_time": "2021-05-14T22:14:59.563625Z"
    }
   },
   "outputs": [
    {
     "data": {
      "text/plain": [
       "tensor([[0.1684, 0.8456, 0.8633, 0.0678],\n",
       "        [0.1768, 0.1670, 0.5966, 0.7353],\n",
       "        [0.5791, 0.7829, 0.7082, 0.1005]], device='cuda:0')"
      ]
     },
     "execution_count": 15,
     "metadata": {},
     "output_type": "execute_result"
    }
   ],
   "source": [
    "my_tensor.to('cuda')"
   ]
  },
  {
   "cell_type": "code",
   "execution_count": 16,
   "metadata": {
    "ExecuteTime": {
     "end_time": "2021-05-14T22:15:02.767067Z",
     "start_time": "2021-05-14T22:15:02.553657Z"
    }
   },
   "outputs": [
    {
     "name": "stdout",
     "output_type": "stream",
     "text": [
      "Fri May 14 18:15:02 2021       \r\n",
      "+-----------------------------------------------------------------------------+\r\n",
      "| NVIDIA-SMI 460.73.01    Driver Version: 460.73.01    CUDA Version: 11.2     |\r\n",
      "|-------------------------------+----------------------+----------------------+\r\n",
      "| GPU  Name        Persistence-M| Bus-Id        Disp.A | Volatile Uncorr. ECC |\r\n",
      "| Fan  Temp  Perf  Pwr:Usage/Cap|         Memory-Usage | GPU-Util  Compute M. |\r\n",
      "|                               |                      |               MIG M. |\r\n",
      "|===============================+======================+======================|\r\n",
      "|   0  GeForce RTX 208...  Off  | 00000000:03:00.0  On |                  N/A |\r\n",
      "|  0%   33C    P2    64W / 300W |   1693MiB / 11018MiB |      3%      Default |\r\n",
      "|                               |                      |                  N/A |\r\n",
      "+-------------------------------+----------------------+----------------------+\r\n",
      "                                                                               \r\n",
      "+-----------------------------------------------------------------------------+\r\n",
      "| Processes:                                                                  |\r\n",
      "|  GPU   GI   CI        PID   Type   Process name                  GPU Memory |\r\n",
      "|        ID   ID                                                   Usage      |\r\n",
      "|=============================================================================|\r\n",
      "|    0   N/A  N/A      2004      G   /usr/lib/xorg/Xorg                 18MiB |\r\n",
      "|    0   N/A  N/A      2044      G   /usr/bin/gnome-shell               52MiB |\r\n",
      "|    0   N/A  N/A      2529      G   /usr/lib/xorg/Xorg                299MiB |\r\n",
      "|    0   N/A  N/A      2665      G   /usr/bin/gnome-shell              146MiB |\r\n",
      "|    0   N/A  N/A      2673      G   ...mviewer/tv_bin/TeamViewer        2MiB |\r\n",
      "|    0   N/A  N/A      3134      G   ...AAAAAAAA== --shared-files       25MiB |\r\n",
      "|    0   N/A  N/A      3386      G   ...AAAAAAAA== --shared-files       25MiB |\r\n",
      "|    0   N/A  N/A      3555      G   ...AAAAAAAAA= --shared-files      178MiB |\r\n",
      "|    0   N/A  N/A      6403      C   ...conda3/envs/pt/bin/python      935MiB |\r\n",
      "+-----------------------------------------------------------------------------+\r\n"
     ]
    }
   ],
   "source": [
    "!nvidia-smi"
   ]
  },
  {
   "cell_type": "code",
   "execution_count": 17,
   "metadata": {
    "ExecuteTime": {
     "end_time": "2021-05-14T22:15:06.121847Z",
     "start_time": "2021-05-14T22:15:06.114609Z"
    }
   },
   "outputs": [
    {
     "data": {
      "text/plain": [
       "device(type='cpu')"
      ]
     },
     "execution_count": 17,
     "metadata": {},
     "output_type": "execute_result"
    }
   ],
   "source": [
    "my_tensor.device"
   ]
  },
  {
   "cell_type": "code",
   "execution_count": 18,
   "metadata": {
    "ExecuteTime": {
     "end_time": "2021-05-14T22:15:06.394423Z",
     "start_time": "2021-05-14T22:15:06.386128Z"
    }
   },
   "outputs": [
    {
     "data": {
      "text/plain": [
       "(tensor([[0.1684, 0.8456, 0.8633, 0.0678],\n",
       "         [0.1768, 0.1670, 0.5966, 0.7353],\n",
       "         [0.5791, 0.7829, 0.7082, 0.1005]], device='cuda:0'),\n",
       " device(type='cuda', index=0))"
      ]
     },
     "execution_count": 18,
     "metadata": {},
     "output_type": "execute_result"
    }
   ],
   "source": [
    "my_tensor = my_tensor.to('cuda')\n",
    "my_tensor, my_tensor.device"
   ]
  },
  {
   "cell_type": "code",
   "execution_count": 19,
   "metadata": {
    "ExecuteTime": {
     "end_time": "2021-05-14T22:15:06.948394Z",
     "start_time": "2021-05-14T22:15:06.938948Z"
    }
   },
   "outputs": [
    {
     "data": {
      "text/plain": [
       "tensor([[0.8456, 0.8633],\n",
       "        [0.1670, 0.5966],\n",
       "        [0.7829, 0.7082]], device='cuda:0')"
      ]
     },
     "execution_count": 19,
     "metadata": {},
     "output_type": "execute_result"
    }
   ],
   "source": [
    "my_tensor[:,1:3]"
   ]
  },
  {
   "cell_type": "markdown",
   "metadata": {},
   "source": [
    "Elementwise multiplicatoin\n"
   ]
  },
  {
   "cell_type": "code",
   "execution_count": 20,
   "metadata": {
    "ExecuteTime": {
     "end_time": "2021-05-14T22:15:08.123703Z",
     "start_time": "2021-05-14T22:15:08.114588Z"
    }
   },
   "outputs": [
    {
     "data": {
      "text/plain": [
       "tensor([[0.0284, 0.7151, 0.7453, 0.0046],\n",
       "        [0.0313, 0.0279, 0.3560, 0.5407],\n",
       "        [0.3353, 0.6129, 0.5015, 0.0101]], device='cuda:0')"
      ]
     },
     "execution_count": 20,
     "metadata": {},
     "output_type": "execute_result"
    }
   ],
   "source": [
    "my_tensor.mul(my_tensor)"
   ]
  },
  {
   "cell_type": "code",
   "execution_count": 21,
   "metadata": {
    "ExecuteTime": {
     "end_time": "2021-05-14T22:15:08.973469Z",
     "start_time": "2021-05-14T22:15:08.956820Z"
    }
   },
   "outputs": [
    {
     "data": {
      "text/plain": [
       "tensor([[0.1684, 1.0000, 0.8633, 0.0678],\n",
       "        [0.1768, 0.1670, 0.5966, 0.7353],\n",
       "        [0.5791, 0.7829, 0.7082, 0.1005]], device='cuda:0')"
      ]
     },
     "execution_count": 21,
     "metadata": {},
     "output_type": "execute_result"
    }
   ],
   "source": [
    "my_tensor[0,1] = 1\n",
    "my_tensor"
   ]
  },
  {
   "cell_type": "code",
   "execution_count": 22,
   "metadata": {
    "ExecuteTime": {
     "end_time": "2021-05-14T22:15:09.515766Z",
     "start_time": "2021-05-14T22:15:09.506658Z"
    }
   },
   "outputs": [
    {
     "data": {
      "text/plain": [
       "tensor([[0.0284, 1.0000, 0.7453, 0.0046],\n",
       "        [0.0313, 0.0279, 0.3560, 0.5407],\n",
       "        [0.3353, 0.6129, 0.5015, 0.0101]], device='cuda:0')"
      ]
     },
     "execution_count": 22,
     "metadata": {},
     "output_type": "execute_result"
    }
   ],
   "source": [
    "my_tensor.mul(my_tensor)"
   ]
  },
  {
   "cell_type": "code",
   "execution_count": 23,
   "metadata": {
    "ExecuteTime": {
     "end_time": "2021-05-14T22:15:10.294628Z",
     "start_time": "2021-05-14T22:15:10.278616Z"
    }
   },
   "outputs": [
    {
     "data": {
      "text/plain": [
       "tensor([[ 1.6838, 10.0000,  8.6331,  0.6778],\n",
       "        [ 1.7683,  1.6703,  5.9662,  7.3534],\n",
       "        [ 5.7907,  7.8290,  7.0819,  1.0048]], device='cuda:0')"
      ]
     },
     "execution_count": 23,
     "metadata": {},
     "output_type": "execute_result"
    }
   ],
   "source": [
    "torch.mul(my_tensor, 10)"
   ]
  },
  {
   "cell_type": "code",
   "execution_count": 24,
   "metadata": {
    "ExecuteTime": {
     "end_time": "2021-05-14T22:15:11.089955Z",
     "start_time": "2021-05-14T22:15:10.971398Z"
    }
   },
   "outputs": [
    {
     "ename": "RuntimeError",
     "evalue": "The size of tensor a (4) must match the size of tensor b (3) at non-singleton dimension 1",
     "output_type": "error",
     "traceback": [
      "\u001b[0;31m---------------------------------------------------------------------------\u001b[0m",
      "\u001b[0;31mRuntimeError\u001b[0m                              Traceback (most recent call last)",
      "\u001b[0;32m<ipython-input-24-31429bf9c146>\u001b[0m in \u001b[0;36m<module>\u001b[0;34m\u001b[0m\n\u001b[0;32m----> 1\u001b[0;31m \u001b[0mtorch\u001b[0m\u001b[0;34m.\u001b[0m\u001b[0mmul\u001b[0m\u001b[0;34m(\u001b[0m\u001b[0mmy_tensor\u001b[0m\u001b[0;34m,\u001b[0m \u001b[0mtorch\u001b[0m\u001b[0;34m.\u001b[0m\u001b[0mrand\u001b[0m\u001b[0;34m(\u001b[0m\u001b[0;36m3\u001b[0m\u001b[0;34m,\u001b[0m\u001b[0;36m3\u001b[0m\u001b[0;34m)\u001b[0m\u001b[0;34m)\u001b[0m\u001b[0;34m\u001b[0m\u001b[0;34m\u001b[0m\u001b[0m\n\u001b[0m",
      "\u001b[0;31mRuntimeError\u001b[0m: The size of tensor a (4) must match the size of tensor b (3) at non-singleton dimension 1"
     ]
    }
   ],
   "source": [
    "torch.mul(my_tensor, torch.rand(3,3))"
   ]
  },
  {
   "cell_type": "code",
   "execution_count": 25,
   "metadata": {
    "ExecuteTime": {
     "end_time": "2021-05-14T22:15:13.885346Z",
     "start_time": "2021-05-14T22:15:13.866134Z"
    }
   },
   "outputs": [
    {
     "data": {
      "text/plain": [
       "(tensor([2.0995, 1.6758, 2.1706], device='cuda:0'),\n",
       " tensor([0.9243, 1.9499, 2.1681, 0.9036], device='cuda:0'))"
      ]
     },
     "execution_count": 25,
     "metadata": {},
     "output_type": "execute_result"
    }
   ],
   "source": [
    "my_tensor.sum(axis=1), my_tensor.sum(axis=0)"
   ]
  },
  {
   "cell_type": "code",
   "execution_count": 26,
   "metadata": {
    "ExecuteTime": {
     "end_time": "2021-05-14T22:15:15.405720Z",
     "start_time": "2021-05-14T22:15:14.762970Z"
    }
   },
   "outputs": [
    {
     "data": {
      "text/plain": [
       "tensor([[1.7783, 0.7617, 1.4986],\n",
       "        [0.7617, 0.9558, 0.7296],\n",
       "        [1.4986, 0.7296, 1.4599]], device='cuda:0')"
      ]
     },
     "execution_count": 26,
     "metadata": {},
     "output_type": "execute_result"
    }
   ],
   "source": [
    "my_tensor.matmul(my_tensor.T)"
   ]
  },
  {
   "cell_type": "code",
   "execution_count": 27,
   "metadata": {
    "ExecuteTime": {
     "end_time": "2021-05-14T22:15:15.704423Z",
     "start_time": "2021-05-14T22:15:15.695525Z"
    }
   },
   "outputs": [
    {
     "data": {
      "text/plain": [
       "tensor([[1.7783, 0.7617, 1.4986],\n",
       "        [0.7617, 0.9558, 0.7296],\n",
       "        [1.4986, 0.7296, 1.4599]], device='cuda:0')"
      ]
     },
     "execution_count": 27,
     "metadata": {},
     "output_type": "execute_result"
    }
   ],
   "source": [
    "my_tensor @ my_tensor.T"
   ]
  },
  {
   "cell_type": "code",
   "execution_count": 28,
   "metadata": {
    "ExecuteTime": {
     "end_time": "2021-05-14T22:15:16.799935Z",
     "start_time": "2021-05-14T22:15:16.787121Z"
    }
   },
   "outputs": [
    {
     "data": {
      "text/plain": [
       "tensor([[0.1684, 1.0000, 0.8633, 0.0678],\n",
       "        [0.1768, 0.1670, 0.5966, 0.7353],\n",
       "        [0.5791, 0.7829, 0.7082, 0.1005],\n",
       "        [0.1684, 1.0000, 0.8633, 0.0678],\n",
       "        [0.1768, 0.1670, 0.5966, 0.7353],\n",
       "        [0.5791, 0.7829, 0.7082, 0.1005]], device='cuda:0')"
      ]
     },
     "execution_count": 28,
     "metadata": {},
     "output_type": "execute_result"
    }
   ],
   "source": [
    "torch.cat([my_tensor, my_tensor])"
   ]
  },
  {
   "cell_type": "code",
   "execution_count": 29,
   "metadata": {
    "ExecuteTime": {
     "end_time": "2021-05-14T22:15:17.469360Z",
     "start_time": "2021-05-14T22:15:17.459537Z"
    }
   },
   "outputs": [
    {
     "data": {
      "text/plain": [
       "tensor([[0.1684, 1.0000, 0.8633, 0.0678, 0.1684, 1.0000, 0.8633, 0.0678],\n",
       "        [0.1768, 0.1670, 0.5966, 0.7353, 0.1768, 0.1670, 0.5966, 0.7353],\n",
       "        [0.5791, 0.7829, 0.7082, 0.1005, 0.5791, 0.7829, 0.7082, 0.1005]],\n",
       "       device='cuda:0')"
      ]
     },
     "execution_count": 29,
     "metadata": {},
     "output_type": "execute_result"
    }
   ],
   "source": [
    "torch.cat([my_tensor, my_tensor], axis=1)"
   ]
  },
  {
   "cell_type": "code",
   "execution_count": 30,
   "metadata": {
    "ExecuteTime": {
     "end_time": "2021-05-14T22:15:17.990333Z",
     "start_time": "2021-05-14T22:15:17.979127Z"
    }
   },
   "outputs": [
    {
     "data": {
      "text/plain": [
       "tensor([[0.1612, 0.3702, 0.3229, 0.1457],\n",
       "        [0.1901, 0.1883, 0.2893, 0.3323],\n",
       "        [0.2510, 0.3078, 0.2856, 0.1556]], device='cuda:0')"
      ]
     },
     "execution_count": 30,
     "metadata": {},
     "output_type": "execute_result"
    }
   ],
   "source": [
    "my_torch_soft_max = torch.nn.functional.softmax(my_tensor, dim=1)\n",
    "my_torch_soft_max"
   ]
  },
  {
   "cell_type": "code",
   "execution_count": 31,
   "metadata": {
    "ExecuteTime": {
     "end_time": "2021-05-14T22:15:19.842673Z",
     "start_time": "2021-05-14T22:15:19.834742Z"
    }
   },
   "outputs": [
    {
     "data": {
      "text/plain": [
       "tensor([1., 1., 1.], device='cuda:0')"
      ]
     },
     "execution_count": 31,
     "metadata": {},
     "output_type": "execute_result"
    }
   ],
   "source": [
    "my_torch_soft_max.sum(axis=1)"
   ]
  },
  {
   "cell_type": "code",
   "execution_count": 32,
   "metadata": {
    "ExecuteTime": {
     "end_time": "2021-05-14T22:15:20.152809Z",
     "start_time": "2021-05-14T22:15:20.146376Z"
    }
   },
   "outputs": [
    {
     "data": {
      "text/plain": [
       "torch.Size([3, 4])"
      ]
     },
     "execution_count": 32,
     "metadata": {},
     "output_type": "execute_result"
    }
   ],
   "source": [
    "my_torch_soft_max.shape"
   ]
  },
  {
   "cell_type": "code",
   "execution_count": 33,
   "metadata": {
    "ExecuteTime": {
     "end_time": "2021-05-14T22:15:21.081311Z",
     "start_time": "2021-05-14T22:15:21.074549Z"
    }
   },
   "outputs": [
    {
     "data": {
      "text/plain": [
       "(torch.Size([3, 4]), 3, 4)"
      ]
     },
     "execution_count": 33,
     "metadata": {},
     "output_type": "execute_result"
    }
   ],
   "source": [
    "my_torch_soft_max.size(), my_torch_soft_max.size(0), my_torch_soft_max.size(1)"
   ]
  },
  {
   "cell_type": "markdown",
   "metadata": {},
   "source": [
    "How we deal with images,\n",
    "\n",
    "`3 colors, 128x128 size and batches of 10 images`"
   ]
  },
  {
   "cell_type": "code",
   "execution_count": 34,
   "metadata": {
    "ExecuteTime": {
     "end_time": "2021-05-14T22:15:22.896714Z",
     "start_time": "2021-05-14T22:15:22.874451Z"
    }
   },
   "outputs": [
    {
     "data": {
      "text/plain": [
       "tensor([[[[0.6470, 0.3641, 0.6088,  ..., 0.8420, 0.5253, 0.8625],\n",
       "          [0.1326, 0.8770, 0.0509,  ..., 0.3974, 0.4584, 0.5773],\n",
       "          [0.3959, 0.8803, 0.7951,  ..., 0.9637, 0.4336, 0.6368],\n",
       "          ...,\n",
       "          [0.6356, 0.7256, 0.2407,  ..., 0.1623, 0.8891, 0.6388],\n",
       "          [0.8488, 0.9436, 0.4231,  ..., 0.8870, 0.3428, 0.6459],\n",
       "          [0.2744, 0.7965, 0.4764,  ..., 0.3531, 0.2922, 0.8971]],\n",
       "\n",
       "         [[0.1018, 0.1729, 0.8913,  ..., 0.7919, 0.6174, 0.9701],\n",
       "          [0.7863, 0.9656, 0.6658,  ..., 0.9967, 0.3769, 0.7729],\n",
       "          [0.0078, 0.6626, 0.4586,  ..., 0.8050, 0.8808, 0.6075],\n",
       "          ...,\n",
       "          [0.6809, 0.8988, 0.0020,  ..., 0.0333, 0.7637, 0.2135],\n",
       "          [0.4738, 0.9228, 0.1563,  ..., 0.5053, 0.6638, 0.3003],\n",
       "          [0.0501, 0.4705, 0.9697,  ..., 0.3486, 0.3547, 0.0727]],\n",
       "\n",
       "         [[0.7664, 0.4436, 0.3738,  ..., 0.2971, 0.1187, 0.6274],\n",
       "          [0.1775, 0.2674, 0.3361,  ..., 0.2841, 0.1589, 0.0787],\n",
       "          [0.5443, 0.8800, 0.5281,  ..., 0.6301, 0.0784, 0.6715],\n",
       "          ...,\n",
       "          [0.9682, 0.5911, 0.2315,  ..., 0.4912, 0.2900, 0.6149],\n",
       "          [0.7804, 0.4666, 0.0938,  ..., 0.9931, 0.0049, 0.7848],\n",
       "          [0.6327, 0.5695, 0.1900,  ..., 0.1917, 0.6275, 0.1246]]],\n",
       "\n",
       "\n",
       "        [[[0.5387, 0.1424, 0.8683,  ..., 0.6987, 0.2644, 0.7294],\n",
       "          [0.8501, 0.3042, 0.2315,  ..., 0.4702, 0.7060, 0.0243],\n",
       "          [0.3289, 0.3738, 0.8459,  ..., 0.2713, 0.0259, 0.2866],\n",
       "          ...,\n",
       "          [0.7269, 0.0938, 0.6342,  ..., 0.6992, 0.4143, 0.0734],\n",
       "          [0.6753, 0.6189, 0.7754,  ..., 0.5259, 0.2411, 0.1426],\n",
       "          [0.1474, 0.7142, 0.9581,  ..., 0.3459, 0.7410, 0.3650]],\n",
       "\n",
       "         [[0.7076, 0.4604, 0.5633,  ..., 0.0980, 0.6249, 0.3210],\n",
       "          [0.3681, 0.4328, 0.8011,  ..., 0.1971, 0.4673, 0.3177],\n",
       "          [0.8734, 0.8584, 0.7307,  ..., 0.7310, 0.0597, 0.5271],\n",
       "          ...,\n",
       "          [0.4776, 0.8786, 0.6701,  ..., 0.4793, 0.3910, 0.3865],\n",
       "          [0.3930, 0.6782, 0.4471,  ..., 0.3719, 0.7902, 0.5895],\n",
       "          [0.3620, 0.4169, 0.5511,  ..., 0.5664, 0.1123, 0.7620]],\n",
       "\n",
       "         [[0.9745, 0.0951, 0.9479,  ..., 0.5297, 0.1720, 0.8928],\n",
       "          [0.4484, 0.2090, 0.2702,  ..., 0.8804, 0.2924, 0.2457],\n",
       "          [0.3218, 0.5070, 0.9235,  ..., 0.8107, 0.0693, 0.6659],\n",
       "          ...,\n",
       "          [0.1484, 0.2717, 0.3822,  ..., 0.0369, 0.4747, 0.0839],\n",
       "          [0.2535, 0.5933, 0.6824,  ..., 0.5245, 0.5049, 0.8568],\n",
       "          [0.5049, 0.4557, 0.9404,  ..., 0.0290, 0.8491, 0.2549]]],\n",
       "\n",
       "\n",
       "        [[[0.7625, 0.6515, 0.6403,  ..., 0.2810, 0.8969, 0.9852],\n",
       "          [0.4640, 0.8677, 0.1654,  ..., 0.5009, 0.0321, 0.1281],\n",
       "          [0.9331, 0.9736, 0.4113,  ..., 0.4169, 0.8617, 0.9683],\n",
       "          ...,\n",
       "          [0.8553, 0.9648, 0.1372,  ..., 0.2811, 0.9348, 0.5936],\n",
       "          [0.8552, 0.8775, 0.7283,  ..., 0.7802, 0.1794, 0.2039],\n",
       "          [0.6314, 0.3155, 0.6023,  ..., 0.5159, 0.3710, 0.3209]],\n",
       "\n",
       "         [[0.4571, 0.0694, 0.0836,  ..., 0.6972, 0.3602, 0.5516],\n",
       "          [0.1815, 0.4729, 0.4352,  ..., 0.3627, 0.6851, 0.8537],\n",
       "          [0.7674, 0.2963, 0.5160,  ..., 0.3924, 0.5147, 0.1888],\n",
       "          ...,\n",
       "          [0.5861, 0.3246, 0.0242,  ..., 0.5499, 0.3236, 0.6539],\n",
       "          [0.3902, 0.3659, 0.5503,  ..., 0.2341, 0.6369, 0.7975],\n",
       "          [0.9178, 0.9190, 0.7333,  ..., 0.4318, 0.3879, 0.3953]],\n",
       "\n",
       "         [[0.6417, 0.6175, 0.8207,  ..., 0.0807, 0.2999, 0.6398],\n",
       "          [0.5059, 0.9111, 0.1093,  ..., 0.9816, 0.1222, 0.1838],\n",
       "          [0.7464, 0.9315, 0.3134,  ..., 0.2953, 0.3210, 0.7173],\n",
       "          ...,\n",
       "          [0.8588, 0.4559, 0.2835,  ..., 0.7724, 0.7802, 0.7235],\n",
       "          [0.2245, 0.5088, 0.4217,  ..., 0.0722, 0.0026, 0.3773],\n",
       "          [0.4876, 0.8907, 0.4241,  ..., 0.3519, 0.4056, 0.9574]]],\n",
       "\n",
       "\n",
       "        ...,\n",
       "\n",
       "\n",
       "        [[[0.3404, 0.9639, 0.6215,  ..., 0.5185, 0.3997, 0.0841],\n",
       "          [0.3392, 0.1942, 0.6924,  ..., 0.5804, 0.5476, 0.0183],\n",
       "          [0.2952, 0.4750, 0.2246,  ..., 0.3170, 0.3886, 0.5670],\n",
       "          ...,\n",
       "          [0.5587, 0.6625, 0.6879,  ..., 0.6542, 0.5215, 0.9413],\n",
       "          [0.5599, 0.8896, 0.9523,  ..., 0.3473, 0.7056, 0.6539],\n",
       "          [0.0024, 0.8837, 0.4374,  ..., 0.2232, 0.4199, 0.2714]],\n",
       "\n",
       "         [[0.5760, 0.2551, 0.3003,  ..., 0.7508, 0.1318, 0.9594],\n",
       "          [0.3856, 0.1986, 0.8222,  ..., 0.9679, 0.7581, 0.4170],\n",
       "          [0.5266, 0.8266, 0.4687,  ..., 0.6107, 0.7285, 0.9991],\n",
       "          ...,\n",
       "          [0.6228, 0.1020, 0.2814,  ..., 0.6413, 0.7087, 0.0401],\n",
       "          [0.3123, 0.3975, 0.9280,  ..., 0.5332, 0.9794, 0.1180],\n",
       "          [0.3733, 0.6117, 0.7548,  ..., 0.9549, 0.5242, 0.7183]],\n",
       "\n",
       "         [[0.5268, 0.1038, 0.9007,  ..., 0.3873, 0.3470, 0.6166],\n",
       "          [0.9174, 0.1831, 0.8518,  ..., 0.7129, 0.3165, 0.3701],\n",
       "          [0.4634, 0.7410, 0.9837,  ..., 0.0641, 0.2803, 0.8365],\n",
       "          ...,\n",
       "          [0.6925, 0.8877, 0.0272,  ..., 0.3525, 0.3331, 0.3551],\n",
       "          [0.3236, 0.4598, 0.2285,  ..., 0.8179, 0.9058, 0.8118],\n",
       "          [0.0767, 0.5282, 0.9730,  ..., 0.8424, 0.2229, 0.5407]]],\n",
       "\n",
       "\n",
       "        [[[0.6527, 0.7458, 0.4422,  ..., 0.1687, 0.7023, 0.6875],\n",
       "          [0.7541, 0.5095, 0.6572,  ..., 0.8093, 0.1860, 0.4926],\n",
       "          [0.5297, 0.3515, 0.5365,  ..., 0.8028, 0.9112, 0.2408],\n",
       "          ...,\n",
       "          [0.9640, 0.6935, 0.6000,  ..., 0.8660, 0.9359, 0.7662],\n",
       "          [0.6188, 0.2591, 0.8920,  ..., 0.3080, 0.4271, 0.5949],\n",
       "          [0.7691, 0.9001, 0.1526,  ..., 0.3515, 0.3607, 0.8522]],\n",
       "\n",
       "         [[0.2957, 0.8627, 0.5067,  ..., 0.2207, 0.4021, 0.2391],\n",
       "          [0.5113, 0.0348, 0.6704,  ..., 0.0288, 0.6024, 0.6719],\n",
       "          [0.2941, 0.1048, 0.6801,  ..., 0.1292, 0.0784, 0.6067],\n",
       "          ...,\n",
       "          [0.2943, 0.1523, 0.3764,  ..., 0.0092, 0.5691, 0.5705],\n",
       "          [0.1511, 0.4304, 0.4714,  ..., 0.5727, 0.2577, 0.9389],\n",
       "          [0.3153, 0.3074, 0.9201,  ..., 0.6722, 0.7074, 0.9928]],\n",
       "\n",
       "         [[0.2948, 0.7441, 0.6612,  ..., 0.4180, 0.0575, 0.9826],\n",
       "          [0.6144, 0.7906, 0.6602,  ..., 0.5287, 0.3237, 0.8810],\n",
       "          [0.9030, 0.4471, 0.6040,  ..., 0.2482, 0.9638, 0.9594],\n",
       "          ...,\n",
       "          [0.5889, 0.9371, 0.1085,  ..., 0.5240, 0.6592, 0.3765],\n",
       "          [0.9989, 0.3162, 0.1942,  ..., 0.4889, 0.0482, 0.3692],\n",
       "          [0.3606, 0.4702, 0.4605,  ..., 0.0390, 0.5442, 0.9626]]],\n",
       "\n",
       "\n",
       "        [[[0.5964, 0.4040, 0.4195,  ..., 0.6586, 0.9868, 0.3163],\n",
       "          [0.4794, 0.2607, 0.7082,  ..., 0.5813, 0.8616, 0.4630],\n",
       "          [0.6998, 0.3597, 0.9227,  ..., 0.9400, 0.7604, 0.2386],\n",
       "          ...,\n",
       "          [0.6350, 0.6907, 0.0829,  ..., 0.5269, 0.3648, 0.9239],\n",
       "          [0.0526, 0.5224, 0.2465,  ..., 0.5398, 0.7876, 0.9705],\n",
       "          [0.5259, 0.4863, 0.4770,  ..., 0.4391, 0.5803, 0.8962]],\n",
       "\n",
       "         [[0.4414, 0.4348, 0.3651,  ..., 0.8293, 0.9266, 0.6430],\n",
       "          [0.2715, 0.8579, 0.6127,  ..., 0.6209, 0.4521, 0.9354],\n",
       "          [0.6495, 0.0325, 0.6537,  ..., 0.8081, 0.2469, 0.0429],\n",
       "          ...,\n",
       "          [0.1450, 0.8073, 0.2640,  ..., 0.3103, 0.3050, 0.4655],\n",
       "          [0.8220, 0.6209, 0.7796,  ..., 0.4512, 0.8325, 0.3882],\n",
       "          [0.1248, 0.2808, 0.6410,  ..., 0.2108, 0.8707, 0.9204]],\n",
       "\n",
       "         [[0.4835, 0.6133, 0.2218,  ..., 0.8608, 0.3048, 0.5806],\n",
       "          [0.3617, 0.1452, 0.0920,  ..., 0.3201, 0.7582, 0.9379],\n",
       "          [0.8398, 0.0907, 0.3058,  ..., 0.7239, 0.3109, 0.3585],\n",
       "          ...,\n",
       "          [0.8352, 0.2007, 0.1645,  ..., 0.0031, 0.0023, 0.7829],\n",
       "          [0.2917, 0.1771, 0.6796,  ..., 0.8262, 0.3151, 0.4041],\n",
       "          [0.6717, 0.0478, 0.9247,  ..., 0.5326, 0.6546, 0.8910]]]])"
      ]
     },
     "execution_count": 34,
     "metadata": {},
     "output_type": "execute_result"
    }
   ],
   "source": [
    "torch.rand(10, 3, 128, 128)"
   ]
  },
  {
   "cell_type": "markdown",
   "metadata": {},
   "source": [
    "Clip function"
   ]
  },
  {
   "cell_type": "code",
   "execution_count": 82,
   "metadata": {
    "ExecuteTime": {
     "end_time": "2021-05-14T19:48:37.903778Z",
     "start_time": "2021-05-14T19:48:37.892710Z"
    }
   },
   "outputs": [
    {
     "data": {
      "text/plain": [
       "(tensor([[0.5259, 1.0000, 0.8152, 0.7808],\n",
       "         [0.1176, 0.2853, 0.2082, 0.8577],\n",
       "         [0.8421, 0.4149, 0.1887, 0.7761]], device='cuda:0'),\n",
       " tensor([[0.5259, 0.8000, 0.8000, 0.7808],\n",
       "         [0.2000, 0.2853, 0.2082, 0.8000],\n",
       "         [0.8000, 0.4149, 0.2000, 0.7761]], device='cuda:0'))"
      ]
     },
     "execution_count": 82,
     "metadata": {},
     "output_type": "execute_result"
    }
   ],
   "source": [
    "my_tensor, my_tensor.clip(0.2, 0.8)"
   ]
  },
  {
   "cell_type": "markdown",
   "metadata": {},
   "source": [
    "Move the tensor to CPU and detach"
   ]
  },
  {
   "cell_type": "code",
   "execution_count": 85,
   "metadata": {
    "ExecuteTime": {
     "end_time": "2021-05-14T19:49:32.852861Z",
     "start_time": "2021-05-14T19:49:32.831710Z"
    }
   },
   "outputs": [
    {
     "data": {
      "text/plain": [
       "array([[0.5259323 , 1.        , 0.8152108 , 0.78080916],\n",
       "       [0.11764795, 0.28530747, 0.2082004 , 0.85771906],\n",
       "       [0.8421309 , 0.41489404, 0.18869781, 0.77610594]], dtype=float32)"
      ]
     },
     "execution_count": 85,
     "metadata": {},
     "output_type": "execute_result"
    }
   ],
   "source": [
    "my_tensor.cpu().detach().numpy()"
   ]
  },
  {
   "cell_type": "code",
   "execution_count": null,
   "metadata": {},
   "outputs": [],
   "source": []
  }
 ],
 "metadata": {
  "kernelspec": {
   "display_name": "pt",
   "language": "python",
   "name": "pt"
  },
  "language_info": {
   "codemirror_mode": {
    "name": "ipython",
    "version": 3
   },
   "file_extension": ".py",
   "mimetype": "text/x-python",
   "name": "python",
   "nbconvert_exporter": "python",
   "pygments_lexer": "ipython3",
   "version": "3.7.9"
  }
 },
 "nbformat": 4,
 "nbformat_minor": 4
}
