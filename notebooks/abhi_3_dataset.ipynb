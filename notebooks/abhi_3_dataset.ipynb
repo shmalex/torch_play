{
 "cells": [
  {
   "cell_type": "markdown",
   "metadata": {},
   "source": [
    "This JN is base on Abhishek Thakur video\n",
    "https://www.youtube.com/watch?v=oWq6aVv5mC8&list=PL98nY_tJQXZln8spB5uTZdKN08mYGkOf2&index=3"
   ]
  },
  {
   "cell_type": "markdown",
   "metadata": {},
   "source": [
    "This JN we will create the DataSet class. When you build the model it's very important to have something that gives you samples for your model to train something on."
   ]
  },
  {
   "cell_type": "code",
   "execution_count": 1,
   "metadata": {
    "ExecuteTime": {
     "end_time": "2021-05-14T22:16:22.940104Z",
     "start_time": "2021-05-14T22:16:22.267373Z"
    }
   },
   "outputs": [],
   "source": [
    "import torch\n",
    "import numpy as np"
   ]
  },
  {
   "cell_type": "code",
   "execution_count": 2,
   "metadata": {
    "ExecuteTime": {
     "end_time": "2021-05-14T22:16:22.947996Z",
     "start_time": "2021-05-14T22:16:22.942435Z"
    }
   },
   "outputs": [],
   "source": [
    "class CustomDataset():\n",
    "    def __init__(self, data, targets):\n",
    "        self.data = data\n",
    "        self.targets = targets\n",
    "    def __len__(self):\n",
    "        \"\"\" return the len of dataset\"\"\"\n",
    "        return len(self.data)\n",
    "\n",
    "    def __getitem__(self, idx):\n",
    "        \"\"\"retruns dictionary of tensors of samples ans targets\"\"\"\n",
    "        current_sample = self.data[idx,:]\n",
    "        current_target = self.targets[idx]\n",
    "        # or call it \"x\" and \"y\"\n",
    "        return {\n",
    "            \"sample\": torch.tensor(current_sample, dtype=torch.float),\n",
    "            \"target\": torch.tensor(current_target, dtype=torch.long)\n",
    "        }"
   ]
  },
  {
   "cell_type": "markdown",
   "metadata": {},
   "source": [
    "let's generate the data for classification problem, 1000 samples with 20 features each"
   ]
  },
  {
   "cell_type": "code",
   "execution_count": 3,
   "metadata": {
    "ExecuteTime": {
     "end_time": "2021-05-14T22:16:24.213555Z",
     "start_time": "2021-05-14T22:16:23.649199Z"
    }
   },
   "outputs": [],
   "source": [
    "from sklearn.datasets import make_classification"
   ]
  },
  {
   "cell_type": "code",
   "execution_count": 4,
   "metadata": {
    "ExecuteTime": {
     "end_time": "2021-05-14T22:16:24.230425Z",
     "start_time": "2021-05-14T22:16:24.215211Z"
    }
   },
   "outputs": [
    {
     "data": {
      "text/plain": [
       "((1000, 20), (1000,), array([0, 1]))"
      ]
     },
     "execution_count": 4,
     "metadata": {},
     "output_type": "execute_result"
    }
   ],
   "source": [
    "data, targets = make_classification(n_samples=1000)\n",
    "\n",
    "data.shape, targets.shape, np.unique(targets)"
   ]
  },
  {
   "cell_type": "code",
   "execution_count": 5,
   "metadata": {
    "ExecuteTime": {
     "end_time": "2021-05-14T22:16:24.332515Z",
     "start_time": "2021-05-14T22:16:24.329251Z"
    }
   },
   "outputs": [],
   "source": [
    "custom_dataset = CustomDataset(data=data, targets=targets)"
   ]
  },
  {
   "cell_type": "code",
   "execution_count": 6,
   "metadata": {
    "ExecuteTime": {
     "end_time": "2021-05-14T22:16:24.736108Z",
     "start_time": "2021-05-14T22:16:24.729478Z"
    }
   },
   "outputs": [
    {
     "data": {
      "text/plain": [
       "1000"
      ]
     },
     "execution_count": 6,
     "metadata": {},
     "output_type": "execute_result"
    }
   ],
   "source": [
    "len(custom_dataset)"
   ]
  },
  {
   "cell_type": "code",
   "execution_count": 7,
   "metadata": {
    "ExecuteTime": {
     "end_time": "2021-05-14T22:16:25.149173Z",
     "start_time": "2021-05-14T22:16:25.139485Z"
    }
   },
   "outputs": [
    {
     "data": {
      "text/plain": [
       "{'sample': tensor([ 0.1764,  1.0099, -0.8853, -1.0872,  0.8695,  0.1171,  0.2489,  0.1109,\n",
       "         -0.6026,  0.9692, -1.0534, -0.5129, -0.9568,  0.6952,  0.5966,  0.1552,\n",
       "         -0.3997, -1.6729,  0.3243, -1.8555]),\n",
       " 'target': tensor(0)}"
      ]
     },
     "execution_count": 7,
     "metadata": {},
     "output_type": "execute_result"
    }
   ],
   "source": [
    "custom_dataset[1]"
   ]
  },
  {
   "cell_type": "code",
   "execution_count": 8,
   "metadata": {
    "ExecuteTime": {
     "end_time": "2021-05-14T22:16:25.640710Z",
     "start_time": "2021-05-14T22:16:25.633462Z"
    }
   },
   "outputs": [
    {
     "data": {
      "text/plain": [
       "torch.Size([20])"
      ]
     },
     "execution_count": 8,
     "metadata": {},
     "output_type": "execute_result"
    }
   ],
   "source": [
    "custom_dataset[1]['sample'].shape"
   ]
  },
  {
   "cell_type": "code",
   "execution_count": 9,
   "metadata": {
    "ExecuteTime": {
     "end_time": "2021-05-14T22:16:26.401173Z",
     "start_time": "2021-05-14T22:16:26.393861Z"
    }
   },
   "outputs": [
    {
     "data": {
      "text/plain": [
       "torch.Size([])"
      ]
     },
     "execution_count": 9,
     "metadata": {},
     "output_type": "execute_result"
    }
   ],
   "source": [
    "custom_dataset[1]['target'].shape"
   ]
  },
  {
   "cell_type": "markdown",
   "metadata": {},
   "source": [
    "we can interate over the data, and this custom dataset could be used in the NN training pipeline"
   ]
  },
  {
   "cell_type": "code",
   "execution_count": 10,
   "metadata": {
    "ExecuteTime": {
     "end_time": "2021-05-14T22:16:27.159817Z",
     "start_time": "2021-05-14T22:16:27.152682Z"
    }
   },
   "outputs": [
    {
     "name": "stdout",
     "output_type": "stream",
     "text": [
      "{'sample': tensor([-1.2739, -1.4160, -1.6700, -0.6315, -1.4072,  0.0504, -0.6610, -1.5224,\n",
      "         1.7089, -2.5042,  2.1774,  0.3825,  0.0826,  0.2714, -1.0597,  0.9159,\n",
      "         2.1773, -0.2875, -0.4292, -1.8349]), 'target': tensor(1)}\n"
     ]
    }
   ],
   "source": [
    "for idx in range(len(custom_dataset)):\n",
    "    print(custom_dataset[idx])\n",
    "    break"
   ]
  },
  {
   "cell_type": "code",
   "execution_count": null,
   "metadata": {},
   "outputs": [],
   "source": []
  }
 ],
 "metadata": {
  "kernelspec": {
   "display_name": "pt",
   "language": "python",
   "name": "pt"
  },
  "language_info": {
   "codemirror_mode": {
    "name": "ipython",
    "version": 3
   },
   "file_extension": ".py",
   "mimetype": "text/x-python",
   "name": "python",
   "nbconvert_exporter": "python",
   "pygments_lexer": "ipython3",
   "version": "3.7.9"
  }
 },
 "nbformat": 4,
 "nbformat_minor": 4
}
